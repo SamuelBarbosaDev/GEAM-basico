{
  "cells": [
    {
      "cell_type": "markdown",
      "metadata": {
        "id": "MHmACRDLE_qH"
      },
      "source": [
        "# Grids no PyMove\n",
        "\n",
        "O processo de análise de dados de trajetórias requer acesso frequente a diferentes partes das trajetórias, o que pode ser demorado em grandes volumes de dados. Uma abordagem eficaz é dividir o espaço geográfico em grades, chamadas $\"Grids\"$.\n",
        "\n",
        "Cada Grid contém trajetórias que se encaixam nesse período e segmentos de trajetória são representados como pontos com coordenadas de início e fim. O PyMove implementa isso com Grids definidas por coordenadas e atributos como tamanho e células da grid. Essa estratégia organiza os dados para recuperação e análise mais eficientes.\n",
        "\n",
        "\\\\\n",
        "No PyMove, Grids são representadas por objetos que contêm atributos específicos\n",
        "\n",
        "- *lon_min_x*: longitude mínima.\n",
        "- *lat_min_y*: latitude mínima.\n",
        "- *grid_size_lat_y*: tamanho da grid em latitude.\n",
        "- *grid_size_lon_x*: tamanho da grid em longitude.\n",
        "- *cell_size_by_degree*: tamanho da célula da grid.\n",
        "\n",
        "\\\\\n",
        "Essa abordagem de dividir o espaço em $Grids$ permite uma maneira eficaz de organizar e acessar os dados de trajetória, facilitando a recuperação rápida das informações desejadas."
      ]
    },
    {
      "cell_type": "markdown",
      "metadata": {
        "id": "gSJbyMgGnDBU"
      },
      "source": [
        "# Grids na Prática\n",
        "\n",
        "Antes de começar, devemos instalar o Pymove no Collab, realizar os imports necessários e carregar os dados que serão usados nessa aplicação. Vamos fazer isso!\n",
        "\n"
      ]
    },
    {
      "cell_type": "code",
      "execution_count": null,
      "metadata": {
        "id": "Vjc1JFmmox0-"
      },
      "outputs": [],
      "source": [
        "!pip install pymove"
      ]
    },
    {
      "cell_type": "code",
      "execution_count": 15,
      "metadata": {
        "id": "V7M6kppVo3bb"
      },
      "outputs": [],
      "source": [
        "from pymove import read_csv\n",
        "from pymove.core.grid import Grid\n",
        "#Grid será usada para a criação e manipulação de Grids\n",
        "\n",
        "data = read_csv('geolife_sample.csv', parse_dates=['datetime'])\n",
        "data = df[:1000]"
      ]
    },
    {
      "cell_type": "markdown",
      "metadata": {
        "id": "K5YDAwBXgq3u"
      },
      "source": [
        "# Criando uma Grid Virtual\n",
        "\n",
        "Para criar uma Grid, devemos usar objeto que importamos na célula anterior. Assim:"
      ]
    },
    {
      "cell_type": "code",
      "execution_count": 16,
      "metadata": {
        "colab": {
          "base_uri": "https://localhost:8080/"
        },
        "id": "ZUa5OhfLh-wH",
        "outputId": "4dd37e5e-c860-4bc5-a3d5-3fbcebd3d4c0"
      },
      "outputs": [
        {
          "output_type": "execute_result",
          "data": {
            "text/plain": [
              "{'lon_min_x': 116.305468,\n",
              " 'lat_min_y': 39.970511,\n",
              " 'grid_size_lat_y': 341,\n",
              " 'grid_size_lon_x': 266,\n",
              " 'cell_size_by_degree': 0.00013533905150922183}"
            ]
          },
          "metadata": {},
          "execution_count": 16
        }
      ],
      "source": [
        "grid = Grid(data, 15)\n",
        "grid.get_grid()"
      ]
    },
    {
      "cell_type": "markdown",
      "metadata": {
        "id": "EbEfxEczpTXS"
      },
      "source": [
        "# Polígonos\n",
        "Um polígono é usado para delimitar uma área específica em uma grid geográfica, criamos um polígono com o seguinte comando:"
      ]
    },
    {
      "cell_type": "code",
      "execution_count": 17,
      "metadata": {
        "colab": {
          "base_uri": "https://localhost:8080/"
        },
        "id": "21DbWKHHqrD1",
        "outputId": "7b589a4f-7569-40b3-ea55-a9648ecaa65f"
      },
      "outputs": [
        {
          "output_type": "stream",
          "name": "stdout",
          "text": [
            "POLYGON ((116.30560333905152 39.97078167810302, 116.30560333905152 39.970917017154534, 116.30573867810303 39.970917017154534, 116.30573867810303 39.97078167810302, 116.30560333905152 39.97078167810302))\n"
          ]
        }
      ],
      "source": [
        "print(grid.create_one_polygon_to_point_on_grid(2, 1))"
      ]
    },
    {
      "cell_type": "markdown",
      "metadata": {
        "id": "DY66e7XCrbVY"
      },
      "source": [
        "O índice da grid é criado ou atualizado nos dados originais usando o comando:"
      ]
    },
    {
      "cell_type": "code",
      "execution_count": null,
      "metadata": {
        "colab": {
          "base_uri": "https://localhost:8080/",
          "height": 206
        },
        "id": "KjHWLZ1ysB3F",
        "outputId": "8530f8c3-c373-42f5-f09f-ab3ffcb246af"
      },
      "outputs": [
        {
          "data": {
            "text/html": [
              "\n",
              "\n",
              "  <div id=\"df-58a4881b-1302-483b-b3d4-7968eec87158\">\n",
              "    <div class=\"colab-df-container\">\n",
              "      <div>\n",
              "<style scoped>\n",
              "    .dataframe tbody tr th:only-of-type {\n",
              "        vertical-align: middle;\n",
              "    }\n",
              "\n",
              "    .dataframe tbody tr th {\n",
              "        vertical-align: top;\n",
              "    }\n",
              "\n",
              "    .dataframe thead th {\n",
              "        text-align: right;\n",
              "    }\n",
              "</style>\n",
              "<table border=\"1\" class=\"dataframe\">\n",
              "  <thead>\n",
              "    <tr style=\"text-align: right;\">\n",
              "      <th></th>\n",
              "      <th>lat</th>\n",
              "      <th>lon</th>\n",
              "      <th>datetime</th>\n",
              "      <th>id</th>\n",
              "      <th>index_grid</th>\n",
              "    </tr>\n",
              "  </thead>\n",
              "  <tbody>\n",
              "    <tr>\n",
              "      <th>0</th>\n",
              "      <td>39.984094</td>\n",
              "      <td>116.319236</td>\n",
              "      <td>2008-10-23 05:53:05</td>\n",
              "      <td>1</td>\n",
              "      <td>2871540571</td>\n",
              "    </tr>\n",
              "    <tr>\n",
              "      <th>1</th>\n",
              "      <td>39.984198</td>\n",
              "      <td>116.319322</td>\n",
              "      <td>2008-10-23 05:53:06</td>\n",
              "      <td>1</td>\n",
              "      <td>2871540572</td>\n",
              "    </tr>\n",
              "    <tr>\n",
              "      <th>2</th>\n",
              "      <td>39.984224</td>\n",
              "      <td>116.319402</td>\n",
              "      <td>2008-10-23 05:53:11</td>\n",
              "      <td>1</td>\n",
              "      <td>2871680846</td>\n",
              "    </tr>\n",
              "    <tr>\n",
              "      <th>3</th>\n",
              "      <td>39.984211</td>\n",
              "      <td>116.319389</td>\n",
              "      <td>2008-10-23 05:53:16</td>\n",
              "      <td>1</td>\n",
              "      <td>2871680846</td>\n",
              "    </tr>\n",
              "    <tr>\n",
              "      <th>4</th>\n",
              "      <td>39.984217</td>\n",
              "      <td>116.319422</td>\n",
              "      <td>2008-10-23 05:53:21</td>\n",
              "      <td>1</td>\n",
              "      <td>2871680846</td>\n",
              "    </tr>\n",
              "  </tbody>\n",
              "</table>\n",
              "</div>\n",
              "      <button class=\"colab-df-convert\" onclick=\"convertToInteractive('df-58a4881b-1302-483b-b3d4-7968eec87158')\"\n",
              "              title=\"Convert this dataframe to an interactive table.\"\n",
              "              style=\"display:none;\">\n",
              "\n",
              "  <svg xmlns=\"http://www.w3.org/2000/svg\" height=\"24px\"viewBox=\"0 0 24 24\"\n",
              "       width=\"24px\">\n",
              "    <path d=\"M0 0h24v24H0V0z\" fill=\"none\"/>\n",
              "    <path d=\"M18.56 5.44l.94 2.06.94-2.06 2.06-.94-2.06-.94-.94-2.06-.94 2.06-2.06.94zm-11 1L8.5 8.5l.94-2.06 2.06-.94-2.06-.94L8.5 2.5l-.94 2.06-2.06.94zm10 10l.94 2.06.94-2.06 2.06-.94-2.06-.94-.94-2.06-.94 2.06-2.06.94z\"/><path d=\"M17.41 7.96l-1.37-1.37c-.4-.4-.92-.59-1.43-.59-.52 0-1.04.2-1.43.59L10.3 9.45l-7.72 7.72c-.78.78-.78 2.05 0 2.83L4 21.41c.39.39.9.59 1.41.59.51 0 1.02-.2 1.41-.59l7.78-7.78 2.81-2.81c.8-.78.8-2.07 0-2.86zM5.41 20L4 18.59l7.72-7.72 1.47 1.35L5.41 20z\"/>\n",
              "  </svg>\n",
              "      </button>\n",
              "\n",
              "\n",
              "\n",
              "    <div id=\"df-599bf1c8-b276-4870-b330-144863e4ad9e\">\n",
              "      <button class=\"colab-df-quickchart\" onclick=\"quickchart('df-599bf1c8-b276-4870-b330-144863e4ad9e')\"\n",
              "              title=\"Suggest charts.\"\n",
              "              style=\"display:none;\">\n",
              "\n",
              "<svg xmlns=\"http://www.w3.org/2000/svg\" height=\"24px\"viewBox=\"0 0 24 24\"\n",
              "     width=\"24px\">\n",
              "    <g>\n",
              "        <path d=\"M19 3H5c-1.1 0-2 .9-2 2v14c0 1.1.9 2 2 2h14c1.1 0 2-.9 2-2V5c0-1.1-.9-2-2-2zM9 17H7v-7h2v7zm4 0h-2V7h2v10zm4 0h-2v-4h2v4z\"/>\n",
              "    </g>\n",
              "</svg>\n",
              "      </button>\n",
              "    </div>\n",
              "\n",
              "<style>\n",
              "  .colab-df-quickchart {\n",
              "    background-color: #E8F0FE;\n",
              "    border: none;\n",
              "    border-radius: 50%;\n",
              "    cursor: pointer;\n",
              "    display: none;\n",
              "    fill: #1967D2;\n",
              "    height: 32px;\n",
              "    padding: 0 0 0 0;\n",
              "    width: 32px;\n",
              "  }\n",
              "\n",
              "  .colab-df-quickchart:hover {\n",
              "    background-color: #E2EBFA;\n",
              "    box-shadow: 0px 1px 2px rgba(60, 64, 67, 0.3), 0px 1px 3px 1px rgba(60, 64, 67, 0.15);\n",
              "    fill: #174EA6;\n",
              "  }\n",
              "\n",
              "  [theme=dark] .colab-df-quickchart {\n",
              "    background-color: #3B4455;\n",
              "    fill: #D2E3FC;\n",
              "  }\n",
              "\n",
              "  [theme=dark] .colab-df-quickchart:hover {\n",
              "    background-color: #434B5C;\n",
              "    box-shadow: 0px 1px 3px 1px rgba(0, 0, 0, 0.15);\n",
              "    filter: drop-shadow(0px 1px 2px rgba(0, 0, 0, 0.3));\n",
              "    fill: #FFFFFF;\n",
              "  }\n",
              "</style>\n",
              "\n",
              "    <script>\n",
              "      async function quickchart(key) {\n",
              "        const containerElement = document.querySelector('#' + key);\n",
              "        const charts = await google.colab.kernel.invokeFunction(\n",
              "            'suggestCharts', [key], {});\n",
              "      }\n",
              "    </script>\n",
              "\n",
              "      <script>\n",
              "\n",
              "function displayQuickchartButton(domScope) {\n",
              "  let quickchartButtonEl =\n",
              "    domScope.querySelector('#df-599bf1c8-b276-4870-b330-144863e4ad9e button.colab-df-quickchart');\n",
              "  quickchartButtonEl.style.display =\n",
              "    google.colab.kernel.accessAllowed ? 'block' : 'none';\n",
              "}\n",
              "\n",
              "        displayQuickchartButton(document);\n",
              "      </script>\n",
              "      <style>\n",
              "    .colab-df-container {\n",
              "      display:flex;\n",
              "      flex-wrap:wrap;\n",
              "      gap: 12px;\n",
              "    }\n",
              "\n",
              "    .colab-df-convert {\n",
              "      background-color: #E8F0FE;\n",
              "      border: none;\n",
              "      border-radius: 50%;\n",
              "      cursor: pointer;\n",
              "      display: none;\n",
              "      fill: #1967D2;\n",
              "      height: 32px;\n",
              "      padding: 0 0 0 0;\n",
              "      width: 32px;\n",
              "    }\n",
              "\n",
              "    .colab-df-convert:hover {\n",
              "      background-color: #E2EBFA;\n",
              "      box-shadow: 0px 1px 2px rgba(60, 64, 67, 0.3), 0px 1px 3px 1px rgba(60, 64, 67, 0.15);\n",
              "      fill: #174EA6;\n",
              "    }\n",
              "\n",
              "    [theme=dark] .colab-df-convert {\n",
              "      background-color: #3B4455;\n",
              "      fill: #D2E3FC;\n",
              "    }\n",
              "\n",
              "    [theme=dark] .colab-df-convert:hover {\n",
              "      background-color: #434B5C;\n",
              "      box-shadow: 0px 1px 3px 1px rgba(0, 0, 0, 0.15);\n",
              "      filter: drop-shadow(0px 1px 2px rgba(0, 0, 0, 0.3));\n",
              "      fill: #FFFFFF;\n",
              "    }\n",
              "  </style>\n",
              "\n",
              "      <script>\n",
              "        const buttonEl =\n",
              "          document.querySelector('#df-58a4881b-1302-483b-b3d4-7968eec87158 button.colab-df-convert');\n",
              "        buttonEl.style.display =\n",
              "          google.colab.kernel.accessAllowed ? 'block' : 'none';\n",
              "\n",
              "        async function convertToInteractive(key) {\n",
              "          const element = document.querySelector('#df-58a4881b-1302-483b-b3d4-7968eec87158');\n",
              "          const dataTable =\n",
              "            await google.colab.kernel.invokeFunction('convertToInteractive',\n",
              "                                                     [key], {});\n",
              "          if (!dataTable) return;\n",
              "\n",
              "          const docLinkHtml = 'Like what you see? Visit the ' +\n",
              "            '<a target=\"_blank\" href=https://colab.research.google.com/notebooks/data_table.ipynb>data table notebook</a>'\n",
              "            + ' to learn more about interactive tables.';\n",
              "          element.innerHTML = '';\n",
              "          dataTable['output_type'] = 'display_data';\n",
              "          await google.colab.output.renderOutput(dataTable, element);\n",
              "          const docLink = document.createElement('div');\n",
              "          docLink.innerHTML = docLinkHtml;\n",
              "          element.appendChild(docLink);\n",
              "        }\n",
              "      </script>\n",
              "    </div>\n",
              "  </div>\n"
            ],
            "text/plain": [
              "         lat         lon            datetime  id  index_grid\n",
              "0  39.984094  116.319236 2008-10-23 05:53:05   1  2871540571\n",
              "1  39.984198  116.319322 2008-10-23 05:53:06   1  2871540572\n",
              "2  39.984224  116.319402 2008-10-23 05:53:11   1  2871680846\n",
              "3  39.984211  116.319389 2008-10-23 05:53:16   1  2871680846\n",
              "4  39.984217  116.319422 2008-10-23 05:53:21   1  2871680846"
            ]
          },
          "execution_count": 9,
          "metadata": {},
          "output_type": "execute_result"
        }
      ],
      "source": [
        "grid.create_update_index_grid_feature(data)\n",
        "data.head()"
      ]
    },
    {
      "cell_type": "markdown",
      "metadata": {
        "id": "VDVjfO4utg0c"
      },
      "source": [
        "Para a criação de Todos os Polígonos para Todos os Pontos na Grid é criada uma estrutura de dados com todos os polígonos, usando o seguinte comando:"
      ]
    },
    {
      "cell_type": "code",
      "execution_count": 18,
      "metadata": {
        "colab": {
          "base_uri": "https://localhost:8080/",
          "height": 206
        },
        "id": "XKCqA7IJusr8",
        "outputId": "d203ce4c-ff4b-4c16-b431-122008025fda"
      },
      "outputs": [
        {
          "output_type": "execute_result",
          "data": {
            "text/plain": [
              "   id  index_grid_lat  index_grid_lon  \\\n",
              "0   1             100             101   \n",
              "1   1             101             102   \n",
              "4   1             101             103   \n",
              "5   1             104             106   \n",
              "6   1             104             105   \n",
              "\n",
              "                                             polygon  \n",
              "0  POLYGON ((116.31913724420244 39.98404490515092...  \n",
              "1  POLYGON ((116.31927258325395 39.98418024420243...  \n",
              "4  POLYGON ((116.31940792230546 39.98418024420243...  \n",
              "5  POLYGON ((116.31981393945998 39.98458626135696...  \n",
              "6  POLYGON ((116.31967860040848 39.98458626135696...  "
            ],
            "text/html": [
              "\n",
              "\n",
              "  <div id=\"df-7ce22111-f4ae-44cb-8c68-5cb978a003fa\">\n",
              "    <div class=\"colab-df-container\">\n",
              "      <div>\n",
              "<style scoped>\n",
              "    .dataframe tbody tr th:only-of-type {\n",
              "        vertical-align: middle;\n",
              "    }\n",
              "\n",
              "    .dataframe tbody tr th {\n",
              "        vertical-align: top;\n",
              "    }\n",
              "\n",
              "    .dataframe thead th {\n",
              "        text-align: right;\n",
              "    }\n",
              "</style>\n",
              "<table border=\"1\" class=\"dataframe\">\n",
              "  <thead>\n",
              "    <tr style=\"text-align: right;\">\n",
              "      <th></th>\n",
              "      <th>id</th>\n",
              "      <th>index_grid_lat</th>\n",
              "      <th>index_grid_lon</th>\n",
              "      <th>polygon</th>\n",
              "    </tr>\n",
              "  </thead>\n",
              "  <tbody>\n",
              "    <tr>\n",
              "      <th>0</th>\n",
              "      <td>1</td>\n",
              "      <td>100</td>\n",
              "      <td>101</td>\n",
              "      <td>POLYGON ((116.31913724420244 39.98404490515092...</td>\n",
              "    </tr>\n",
              "    <tr>\n",
              "      <th>1</th>\n",
              "      <td>1</td>\n",
              "      <td>101</td>\n",
              "      <td>102</td>\n",
              "      <td>POLYGON ((116.31927258325395 39.98418024420243...</td>\n",
              "    </tr>\n",
              "    <tr>\n",
              "      <th>4</th>\n",
              "      <td>1</td>\n",
              "      <td>101</td>\n",
              "      <td>103</td>\n",
              "      <td>POLYGON ((116.31940792230546 39.98418024420243...</td>\n",
              "    </tr>\n",
              "    <tr>\n",
              "      <th>5</th>\n",
              "      <td>1</td>\n",
              "      <td>104</td>\n",
              "      <td>106</td>\n",
              "      <td>POLYGON ((116.31981393945998 39.98458626135696...</td>\n",
              "    </tr>\n",
              "    <tr>\n",
              "      <th>6</th>\n",
              "      <td>1</td>\n",
              "      <td>104</td>\n",
              "      <td>105</td>\n",
              "      <td>POLYGON ((116.31967860040848 39.98458626135696...</td>\n",
              "    </tr>\n",
              "  </tbody>\n",
              "</table>\n",
              "</div>\n",
              "      <button class=\"colab-df-convert\" onclick=\"convertToInteractive('df-7ce22111-f4ae-44cb-8c68-5cb978a003fa')\"\n",
              "              title=\"Convert this dataframe to an interactive table.\"\n",
              "              style=\"display:none;\">\n",
              "\n",
              "  <svg xmlns=\"http://www.w3.org/2000/svg\" height=\"24px\"viewBox=\"0 0 24 24\"\n",
              "       width=\"24px\">\n",
              "    <path d=\"M0 0h24v24H0V0z\" fill=\"none\"/>\n",
              "    <path d=\"M18.56 5.44l.94 2.06.94-2.06 2.06-.94-2.06-.94-.94-2.06-.94 2.06-2.06.94zm-11 1L8.5 8.5l.94-2.06 2.06-.94-2.06-.94L8.5 2.5l-.94 2.06-2.06.94zm10 10l.94 2.06.94-2.06 2.06-.94-2.06-.94-.94-2.06-.94 2.06-2.06.94z\"/><path d=\"M17.41 7.96l-1.37-1.37c-.4-.4-.92-.59-1.43-.59-.52 0-1.04.2-1.43.59L10.3 9.45l-7.72 7.72c-.78.78-.78 2.05 0 2.83L4 21.41c.39.39.9.59 1.41.59.51 0 1.02-.2 1.41-.59l7.78-7.78 2.81-2.81c.8-.78.8-2.07 0-2.86zM5.41 20L4 18.59l7.72-7.72 1.47 1.35L5.41 20z\"/>\n",
              "  </svg>\n",
              "      </button>\n",
              "\n",
              "\n",
              "\n",
              "    <div id=\"df-4a28f19f-7a9b-47bc-ae85-b651fe49ea11\">\n",
              "      <button class=\"colab-df-quickchart\" onclick=\"quickchart('df-4a28f19f-7a9b-47bc-ae85-b651fe49ea11')\"\n",
              "              title=\"Suggest charts.\"\n",
              "              style=\"display:none;\">\n",
              "\n",
              "<svg xmlns=\"http://www.w3.org/2000/svg\" height=\"24px\"viewBox=\"0 0 24 24\"\n",
              "     width=\"24px\">\n",
              "    <g>\n",
              "        <path d=\"M19 3H5c-1.1 0-2 .9-2 2v14c0 1.1.9 2 2 2h14c1.1 0 2-.9 2-2V5c0-1.1-.9-2-2-2zM9 17H7v-7h2v7zm4 0h-2V7h2v10zm4 0h-2v-4h2v4z\"/>\n",
              "    </g>\n",
              "</svg>\n",
              "      </button>\n",
              "    </div>\n",
              "\n",
              "<style>\n",
              "  .colab-df-quickchart {\n",
              "    background-color: #E8F0FE;\n",
              "    border: none;\n",
              "    border-radius: 50%;\n",
              "    cursor: pointer;\n",
              "    display: none;\n",
              "    fill: #1967D2;\n",
              "    height: 32px;\n",
              "    padding: 0 0 0 0;\n",
              "    width: 32px;\n",
              "  }\n",
              "\n",
              "  .colab-df-quickchart:hover {\n",
              "    background-color: #E2EBFA;\n",
              "    box-shadow: 0px 1px 2px rgba(60, 64, 67, 0.3), 0px 1px 3px 1px rgba(60, 64, 67, 0.15);\n",
              "    fill: #174EA6;\n",
              "  }\n",
              "\n",
              "  [theme=dark] .colab-df-quickchart {\n",
              "    background-color: #3B4455;\n",
              "    fill: #D2E3FC;\n",
              "  }\n",
              "\n",
              "  [theme=dark] .colab-df-quickchart:hover {\n",
              "    background-color: #434B5C;\n",
              "    box-shadow: 0px 1px 3px 1px rgba(0, 0, 0, 0.15);\n",
              "    filter: drop-shadow(0px 1px 2px rgba(0, 0, 0, 0.3));\n",
              "    fill: #FFFFFF;\n",
              "  }\n",
              "</style>\n",
              "\n",
              "    <script>\n",
              "      async function quickchart(key) {\n",
              "        const containerElement = document.querySelector('#' + key);\n",
              "        const charts = await google.colab.kernel.invokeFunction(\n",
              "            'suggestCharts', [key], {});\n",
              "      }\n",
              "    </script>\n",
              "\n",
              "      <script>\n",
              "\n",
              "function displayQuickchartButton(domScope) {\n",
              "  let quickchartButtonEl =\n",
              "    domScope.querySelector('#df-4a28f19f-7a9b-47bc-ae85-b651fe49ea11 button.colab-df-quickchart');\n",
              "  quickchartButtonEl.style.display =\n",
              "    google.colab.kernel.accessAllowed ? 'block' : 'none';\n",
              "}\n",
              "\n",
              "        displayQuickchartButton(document);\n",
              "      </script>\n",
              "      <style>\n",
              "    .colab-df-container {\n",
              "      display:flex;\n",
              "      flex-wrap:wrap;\n",
              "      gap: 12px;\n",
              "    }\n",
              "\n",
              "    .colab-df-convert {\n",
              "      background-color: #E8F0FE;\n",
              "      border: none;\n",
              "      border-radius: 50%;\n",
              "      cursor: pointer;\n",
              "      display: none;\n",
              "      fill: #1967D2;\n",
              "      height: 32px;\n",
              "      padding: 0 0 0 0;\n",
              "      width: 32px;\n",
              "    }\n",
              "\n",
              "    .colab-df-convert:hover {\n",
              "      background-color: #E2EBFA;\n",
              "      box-shadow: 0px 1px 2px rgba(60, 64, 67, 0.3), 0px 1px 3px 1px rgba(60, 64, 67, 0.15);\n",
              "      fill: #174EA6;\n",
              "    }\n",
              "\n",
              "    [theme=dark] .colab-df-convert {\n",
              "      background-color: #3B4455;\n",
              "      fill: #D2E3FC;\n",
              "    }\n",
              "\n",
              "    [theme=dark] .colab-df-convert:hover {\n",
              "      background-color: #434B5C;\n",
              "      box-shadow: 0px 1px 3px 1px rgba(0, 0, 0, 0.15);\n",
              "      filter: drop-shadow(0px 1px 2px rgba(0, 0, 0, 0.3));\n",
              "      fill: #FFFFFF;\n",
              "    }\n",
              "  </style>\n",
              "\n",
              "      <script>\n",
              "        const buttonEl =\n",
              "          document.querySelector('#df-7ce22111-f4ae-44cb-8c68-5cb978a003fa button.colab-df-convert');\n",
              "        buttonEl.style.display =\n",
              "          google.colab.kernel.accessAllowed ? 'block' : 'none';\n",
              "\n",
              "        async function convertToInteractive(key) {\n",
              "          const element = document.querySelector('#df-7ce22111-f4ae-44cb-8c68-5cb978a003fa');\n",
              "          const dataTable =\n",
              "            await google.colab.kernel.invokeFunction('convertToInteractive',\n",
              "                                                     [key], {});\n",
              "          if (!dataTable) return;\n",
              "\n",
              "          const docLinkHtml = 'Like what you see? Visit the ' +\n",
              "            '<a target=\"_blank\" href=https://colab.research.google.com/notebooks/data_table.ipynb>data table notebook</a>'\n",
              "            + ' to learn more about interactive tables.';\n",
              "          element.innerHTML = '';\n",
              "          dataTable['output_type'] = 'display_data';\n",
              "          await google.colab.output.renderOutput(dataTable, element);\n",
              "          const docLink = document.createElement('div');\n",
              "          docLink.innerHTML = docLinkHtml;\n",
              "          element.appendChild(docLink);\n",
              "        }\n",
              "      </script>\n",
              "    </div>\n",
              "  </div>\n"
            ]
          },
          "metadata": {},
          "execution_count": 18
        }
      ],
      "source": [
        "grid_data = grid.create_all_polygons_to_all_point_on_grid(data)\n",
        "grid_data.head()"
      ]
    },
    {
      "cell_type": "markdown",
      "metadata": {
        "id": "gsS-VEiBvahO"
      },
      "source": [
        "Também é possível criar todos os polígono sde uma grid com o comando abaixo:"
      ]
    },
    {
      "cell_type": "code",
      "execution_count": null,
      "metadata": {
        "id": "r3RgSkk5wGPj"
      },
      "outputs": [],
      "source": [
        "grid.create_all_polygons_on_grid()"
      ]
    },
    {
      "cell_type": "markdown",
      "metadata": {
        "id": "Ng-rJjSUwOOW"
      },
      "source": [
        "É possível visualizar os polígonos da grid com o seguinte comando:"
      ]
    },
    {
      "cell_type": "code",
      "execution_count": 19,
      "metadata": {
        "colab": {
          "base_uri": "https://localhost:8080/",
          "height": 845
        },
        "id": "7RETKcXnwgOz",
        "outputId": "749e790f-9414-4ff1-ed25-3fc03f1c2cdf"
      },
      "outputs": [
        {
          "output_type": "display_data",
          "data": {
            "text/plain": [
              "<Figure size 1000x1000 with 1 Axes>"
            ],
            "image/png": "[encoded data removed]"
          },
          "metadata": {}
        }
      ],
      "source": [
        "from pymove.visualization.matplotlib import plot_grid_polygons\n",
        "\n",
        "plot_grid_polygons(grid_data)\n"
      ]
    },
    {
      "cell_type": "markdown",
      "source": [
        "# Arquivo .pkl\n",
        "\n",
        "É possível salvar a Grid em um arquivo .pkl, basta executar a seguinte célula:"
      ],
      "metadata": {
        "id": "_kCKGMopyAxy"
      }
    },
    {
      "cell_type": "code",
      "source": [
        "grid.save_grid_pkl('teste.pkl')"
      ],
      "metadata": {
        "id": "malf-H0dyaeY"
      },
      "execution_count": 20,
      "outputs": []
    },
    {
      "cell_type": "markdown",
      "source": [
        "E para ler um arquivo desse formato, use o seguinte comando:"
      ],
      "metadata": {
        "id": "iSX8bxxCyfZk"
      }
    },
    {
      "cell_type": "code",
      "source": [
        "grid.read_grid_pkl('teste.pkl').get_grid()"
      ],
      "metadata": {
        "colab": {
          "base_uri": "https://localhost:8080/"
        },
        "id": "lCSWYM0rynXe",
        "outputId": "3facc4a6-29a0-4cce-efdb-ca6789484b8b"
      },
      "execution_count": 21,
      "outputs": [
        {
          "output_type": "execute_result",
          "data": {
            "text/plain": [
              "{'lon_min_x': 116.305468,\n",
              " 'lat_min_y': 39.970511,\n",
              " 'grid_size_lat_y': 341,\n",
              " 'grid_size_lon_x': 266,\n",
              " 'cell_size_by_degree': 0.00013533905150922183}"
            ]
          },
          "metadata": {},
          "execution_count": 21
        }
      ]
    },
    {
      "cell_type": "markdown",
      "source": [
        "# Referências\n",
        "\n",
        "* Exploring Grid. Disponível em: https://github.com/InsightLab/PyMove/blob/master/notebooks/04_Exploring_Grid.ipynb. Acesso em: 14/08/2023."
      ],
      "metadata": {
        "id": "KWA35xNIyxst"
      }
    }
  ],
  "metadata": {
    "colab": {
      "provenance": []
    },
    "kernelspec": {
      "display_name": "Python 3",
      "name": "python3"
    },
    "language_info": {
      "name": "python"
    }
  },
  "nbformat": 4,
  "nbformat_minor": 0
}