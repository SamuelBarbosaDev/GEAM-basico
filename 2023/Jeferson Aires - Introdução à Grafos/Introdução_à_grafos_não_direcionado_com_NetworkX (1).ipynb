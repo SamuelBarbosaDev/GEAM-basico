{
  "nbformat": 4,
  "nbformat_minor": 0,
  "metadata": {
    "colab": {
      "provenance": []
    },
    "kernelspec": {
      "name": "python3",
      "display_name": "Python 3"
    },
    "language_info": {
      "name": "python"
    }
  },
  "cells": [
    {
      "cell_type": "markdown",
      "source": [
        "## Introdução à grafos não direcionados com NetworkX."
      ],
      "metadata": {
        "id": "9uNnJCMOxLoj"
      }
    },
    {
      "cell_type": "markdown",
      "source": [
        "Ao longo deste notebook, iremos criar e manipular grafos não direcionados, utilizando o pacote python NetworkX, que é uma biblioteca utilizada para manipulação de grafos e redes complexas.\n",
        "\n",
        "`Documentação da Biblioteca: https://networkx.org`\n",
        "\n"
      ],
      "metadata": {
        "id": "Iohz_rYCyP4e"
      }
    },
    {
      "cell_type": "markdown",
      "source": [
        "### Conceito de Grafos não direcionados\n",
        "\n",
        "Grafos é uma estrutura frequentemente utilizada para representar relações entre conjuntos de objetos. Chamamos esses objetos de vértices e as conexões entre esses objetos, chamamos de arestas. Um grafo pode ser direcionado ou não direcionado, caso as arestas não tenham uma direção.\n",
        "\n"
      ],
      "metadata": {
        "id": "ypeDP-48z4sP"
      }
    },
    {
      "cell_type": "markdown",
      "source": [
        "<center>\n",
        "  <img src = \"https://www.inf.ufsc.br/grafos/images/isomorfo2.gif\" />\n",
        " <p>Exemplo de grafo não direcionado composto por seis vértices. Cada esfera representa um vértice, e as linhas que os conectam são as arestas que indicam um relacionamento entre eles.</p>\n",
        "</center>"
      ],
      "metadata": {
        "id": "8_qlnGRr4cSY"
      }
    },
    {
      "cell_type": "markdown",
      "source": [
        "### Instalação das Bibliotecas que serão utilizadas."
      ],
      "metadata": {
        "id": "8tzsDnXl5uNR"
      }
    },
    {
      "cell_type": "code",
      "source": [
        "!pip install networkx\n",
        "!pip install matplotlib"
      ],
      "metadata": {
        "id": "mhENNnJK7Vjt"
      },
      "execution_count": null,
      "outputs": []
    },
    {
      "cell_type": "code",
      "source": [
        "import networkx as nx\n",
        "import matplotlib.pyplot as plt\n",
        "import numpy as np"
      ],
      "metadata": {
        "id": "kuetX5C39mWD"
      },
      "execution_count": 3,
      "outputs": []
    },
    {
      "cell_type": "markdown",
      "source": [
        "### Criando um Objeto NetworkX\n",
        "\n",
        "Como vimos anteriormente, um grafo é composto por vértices conectados por arestas. NetworkX permite que vértices possam ser strings de texto, números, entre outros. O código a seguir, cria um grafo direcionado."
      ],
      "metadata": {
        "id": "Rv5Fja8i87E3"
      }
    },
    {
      "cell_type": "code",
      "source": [
        "# criando um grafo não direcionado\n",
        "graph = nx.Graph()"
      ],
      "metadata": {
        "id": "SM8xSiYj9ZM_"
      },
      "execution_count": 4,
      "outputs": []
    },
    {
      "cell_type": "markdown",
      "source": [
        "### Adicionando Vértices ao Grafo (não direcionado)\n",
        "\n",
        "Com nosso grafo criado, vamos adicionar vértices e arestas, para conectá-lo.\n",
        "\n",
        "1.   Item da lista\n",
        "2.   Item da lista\n",
        "\n"
      ],
      "metadata": {
        "id": "ZCRv9HCC91rU"
      }
    },
    {
      "cell_type": "code",
      "source": [
        "# adicionando os vértices\n",
        "graph.add_node(1)\n",
        "graph.add_node(2)\n",
        "graph.add_node(3)\n",
        "graph.add_node(4)\n",
        "graph.add_node(5)\n",
        "graph.add_node(6)\n",
        "\n",
        "# exibindo o número de vértices\n",
        "print(graph.nodes())\n",
        "print(\"\\n\")\n",
        "\n",
        "# adicionando arestas\n",
        "graph.add_edge(2, 1)\n",
        "graph.add_edge(2, 5)\n",
        "graph.add_edge(1, 3)\n",
        "graph.add_edge(1, 5)\n",
        "graph.add_edge(5, 6)\n",
        "graph.add_edge(6, 4)\n",
        "graph.add_edge(6, 3)\n",
        "\n",
        "# Podemos imprimir o grafo usando o comando draw.\n",
        "pos = nx.circular_layout(graph)\n",
        "nx.draw(graph, pos, with_labels=True, node_size=1500, node_color=\"skyblue\", font_size=10)\n",
        "plt.show()"
      ],
      "metadata": {
        "id": "g9m-C_Kj-KmS",
        "colab": {
          "base_uri": "https://localhost:8080/",
          "height": 568
        },
        "outputId": "af4592f0-8470-4214-9ec8-d4e4624b52de"
      },
      "execution_count": 5,
      "outputs": [
        {
          "output_type": "stream",
          "name": "stdout",
          "text": [
            "[1, 2, 3, 4, 5, 6]\n",
            "\n",
            "\n"
          ]
        },
        {
          "output_type": "display_data",
          "data": {
            "text/plain": [
              "<Figure size 640x480 with 1 Axes>"
            ],
            "image/png": "[encoded data removed]"
          },
          "metadata": {}
        }
      ]
    },
    {
      "cell_type": "markdown",
      "source": [
        "### Removendo Vértices do Grafo (não direcionado)\n",
        "\n",
        "Quando estamos trabalhando com grafos não direcionado podemos remover um vértice usando a função remove_node( ):\n",
        "\n",
        "---\n",
        "\n"
      ],
      "metadata": {
        "id": "QnqVnyLcBJIL"
      }
    },
    {
      "cell_type": "code",
      "source": [
        "# exibindo o número de vértices\n",
        "print(graph.nodes())\n",
        "print(\"\\n\")\n",
        "\n",
        "# removendo o nó 2\n",
        "graph.remove_node(6)\n",
        "\n",
        "# grafo atualizado\n",
        "print(graph.nodes())"
      ],
      "metadata": {
        "id": "aID2QU8-BXlQ",
        "colab": {
          "base_uri": "https://localhost:8080/"
        },
        "outputId": "de0a1b3d-db9d-4a57-b2c4-68390eb7fad8"
      },
      "execution_count": 6,
      "outputs": [
        {
          "output_type": "stream",
          "name": "stdout",
          "text": [
            "[1, 2, 3, 4, 5, 6]\n",
            "\n",
            "\n",
            "[1, 2, 3, 4, 5]\n"
          ]
        }
      ]
    },
    {
      "cell_type": "markdown",
      "source": [
        "### Obtendo os vizinhos de um nó (não direcionado)\n",
        "\n",
        "> Conhecendo o conceito de vizinhança\n",
        "<center>\n",
        "  <img src = \"https://www.inf.ufsc.br/grafos/images/isomorfo1.gif\"/>\n",
        "</center>\n",
        "\n",
        "\n",
        "\n",
        "* Dado $G = (V, E)$ não direcionado e $\\left\\{ u,v \\right\\} \\in E$, dizemos que $\\left\\{ u,v \\right\\}$\n",
        "incide nos vértices $u$ e $v$ e vice-versa.\n",
        "* Dizemos também que $u$ e $v$ são adjacentes.\n",
        "* Dizemos que $u$ e $v$ são os extremos da aresta $\\left(u, v \\right)$.\n",
        "*  Vértices adjacentes a um vértice $u$ formam a vizinhança de $u$ e são\n",
        "chamados vizinhos de $u$.\n",
        "\n"
      ],
      "metadata": {
        "id": "oVC6CJvSEQCD"
      }
    },
    {
      "cell_type": "markdown",
      "source": [
        "<p>Para obter os vizinhos de um nó em um grafo utilizando a biblioteca NetworkX em Python, você pode usar a função $neighbors()$. Esta função retorna um iterador que percorre os vizinhos do nó especificado.</p>"
      ],
      "metadata": {
        "id": "_eGXdI1C1GHl"
      }
    },
    {
      "cell_type": "code",
      "source": [
        "# exibindo o número de vértices\n",
        "print(graph.nodes())\n",
        "print(\"\\n\")\n",
        "\n",
        "# vértice que desejamos encontrar os vizinhos\n",
        "node = 5\n",
        "# criando uma lista a partir no iterador node\n",
        "neighbors = list(graph.neighbors(node))\n",
        "print(f\"Vizinhos do nó {node}: {neighbors}\")"
      ],
      "metadata": {
        "colab": {
          "base_uri": "https://localhost:8080/"
        },
        "id": "iPKQItAPucvF",
        "outputId": "4653454a-c4bb-451a-88b1-5ceb0aa8981c"
      },
      "execution_count": 7,
      "outputs": [
        {
          "output_type": "stream",
          "name": "stdout",
          "text": [
            "[1, 2, 3, 4, 5]\n",
            "\n",
            "\n",
            "Vizinhos do nó 5: [2, 1]\n"
          ]
        }
      ]
    },
    {
      "cell_type": "markdown",
      "source": [
        "### Obtendo o grau de um nó (não direcionado)\n",
        "\n",
        "O grau de um vértice em um grafo é o numero de arestas incidentes no mesmo,\n",
        "uma medida que indica quantas arestas estão conectadas a esse vértice. Em outras palavras, o grau de um vértice é o número de vizinhos que ele possui no grafo.\n",
        "\n",
        "Para obter o grau de um nó em um determinado grafo, você pode usar a função $degree()$ da seguinte forma:"
      ],
      "metadata": {
        "id": "W5nbZnsREQLY"
      }
    },
    {
      "cell_type": "code",
      "source": [
        "# vértice que desejamos encontrar os vizinhos e seu grau\n",
        "node = 1\n",
        "neighbors = list(graph.neighbors(node))\n",
        "print(f\"Vizinhos do nó {node}: {neighbors}\")\n",
        "\n",
        "# determinando seu grau\n",
        "degree = graph.degree(node)\n",
        "print(f\"Grau do nó {node}: {degree}\")"
      ],
      "metadata": {
        "colab": {
          "base_uri": "https://localhost:8080/"
        },
        "id": "S4FHLGpv3dst",
        "outputId": "efe4f956-20b4-4546-f615-b1fe8330990c"
      },
      "execution_count": 8,
      "outputs": [
        {
          "output_type": "stream",
          "name": "stdout",
          "text": [
            "Vizinhos do nó 1: [2, 3, 5]\n",
            "Grau do nó 1: 3\n"
          ]
        }
      ]
    },
    {
      "cell_type": "markdown",
      "source": [
        "### Verificar se dois nós estão conectados (não direcionado)\n",
        "> Verificar se dois nós estão conectados em um grafo é uma tarefa importante em várias aplicações e análises relacionadas a redes e estruturas complexas, pois, essa verificação fornece informações essenciais sobre como os elementos estão relacionados dentro de um sistema complexo.\n",
        "\n",
        "Para verificar se dois nós estão conectados, você pode usar a função $ \\text{has_edge}() $. Essa função verifica se existe uma aresta entre os dois nós especificados. Aqui está um exemplo de como fazer isso:"
      ],
      "metadata": {
        "id": "8ufBzwfaEQWQ"
      }
    },
    {
      "cell_type": "code",
      "source": [
        "# exibindo o nosso grafo\n",
        "pos = nx.circular_layout(graph)\n",
        "nx.draw(graph, pos, with_labels=True, node_size=1500, node_color=\"skyblue\", font_size=10)\n",
        "plt.show()\n",
        "\n",
        "node1 = 1\n",
        "node2 = 4\n",
        "\n",
        "# Verifica se os nós estão conectados\n",
        "are_connected = graph.has_edge(node1, node2)\n",
        "\n",
        "if are_connected:\n",
        "    print(f\"Os nós {node1} e {node2} estão conectados.\")\n",
        "else:\n",
        "    print(f\"Os nós {node1} e {node2} não estão conectados.\")"
      ],
      "metadata": {
        "id": "Peln6BYl6p4D",
        "colab": {
          "base_uri": "https://localhost:8080/",
          "height": 533
        },
        "outputId": "c0bbd852-14aa-400d-dbd6-b2a81c89a9a1"
      },
      "execution_count": 10,
      "outputs": [
        {
          "output_type": "display_data",
          "data": {
            "text/plain": [
              "<Figure size 640x480 with 1 Axes>"
            ],
            "image/png": "[encoded data removed]"
          },
          "metadata": {}
        },
        {
          "output_type": "stream",
          "name": "stdout",
          "text": [
            "Os nós 1 e 4 não estão conectados.\n"
          ]
        }
      ]
    },
    {
      "cell_type": "markdown",
      "source": [
        "###Bibliografia\n",
        "* Material - https://www.cs.cmu.edu/afs/cs/academic/class/15210-f14/www/lectures/graph-intro.pdf"
      ],
      "metadata": {
        "id": "C4GfsoOJyFXr"
      }
    }
  ]
}