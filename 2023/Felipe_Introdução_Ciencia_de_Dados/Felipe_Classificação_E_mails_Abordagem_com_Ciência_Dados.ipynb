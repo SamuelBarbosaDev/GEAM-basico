{
  "nbformat": 4,
  "nbformat_minor": 0,
  "metadata": {
    "colab": {
      "provenance": []
    },
    "kernelspec": {
      "name": "python3",
      "display_name": "Python 3"
    },
    "language_info": {
      "name": "python"
    }
  },
  "cells": [
    {
      "cell_type": "markdown",
      "source": [
        "# **Classificação de E-mails: Uma Abordagem com Ciência de Dados.**\n",
        "\n",
        "Neste notebook, abordaremos como a ciência de dados pode ser aplicada para classificar e-mails como spam ou não spam. A classificação de e-mails é uma tarefa importante para melhorar a experiência do usuário ao filtrar mensagens indesejadas. Neste notebook será seguida uma abordagem passo a passo usando Python e bibliotecas populares de aprendizado de máquina e processamento de linguagem natural (PLN).\n",
        "\n",
        "#**Abordagens para a Classificação**\n",
        "\n",
        "Na classificação de e-mails em spam ou não spam, várias técnicas de aprendizado de máquina e ciência de dados podem ser utilizadas. Aqui estão algumas das abordagens comuns:\n",
        "\n",
        "1. Naive Bayes: O classificador Naive Bayes é amplamente usado na classificação de texto, incluindo a classificação de e-mails. Ele funciona bem para tarefas de processamento de linguagem natural, como a classificação de palavras-chave e análise de texto.\n",
        "2. Random Forest: Uma extensão das árvores de decisão, o Random Forest é um algoritmo de conjunto que combina várias árvores de decisão para melhorar o desempenho e a generalização.\n",
        "3. Processamento de Linguagem Natural (NLP): Técnicas avançadas de NLP, como modelos de linguagem pré-treinados (por exemplo, BERT, GPT) ou análise de sentimentos, podem ser incorporadas para melhorar a detecção de spam.\n",
        "\n",
        "#**Classificação Geral**\n",
        "\n",
        "A ciência de dados desempenha um papel fundamental na classificação de e-mails em spam ou não spam. Aqui vamos ter uma implementação geral dessa aboordagem, nela será utilizado o conjunto de dados \"spambase.data\" que possui uma quantidade de 920 instâncias para a classificação com o modelo produzido:\n",
        "\n",
        "1. **Coleta e Preparação de Dados:**\n",
        "   - A ciência de dados começa com a coleta de dados relevantes. Para classificar e-mails, é necessário ter um conjunto de dados que contenha e-mails rotulados como spam e não spam. A ciência de dados ajuda a coletar, limpar e preparar esses dados, removendo duplicatas, tratando valores ausentes e realizando outras operações de limpeza. Na etapa inicial é realizada as importações e carregamento do modelo\n",
        "   "
      ],
      "metadata": {
        "id": "HWOGA6APbsIh"
      }
    },
    {
      "cell_type": "code",
      "source": [
        "import pandas as pd\n",
        "import numpy as np\n",
        "from sklearn.model_selection import train_test_split\n",
        "from sklearn.ensemble import RandomForestClassifier\n",
        "from sklearn.metrics import accuracy_score, classification_report\n",
        "\n",
        "data = pd.read_csv('spambase.data')"
      ],
      "metadata": {
        "id": "ktWHhpmghD4Z"
      },
      "execution_count": 2,
      "outputs": []
    },
    {
      "cell_type": "markdown",
      "source": [
        "2. **Pré-processamento de Texto:**\n",
        "   - Os e-mails geralmente contêm texto não estruturado. A ciência de dados aplica técnicas de pré-processamento de texto, como tokenização, remoção de stop words, normalização de texto (por exemplo, transformando todas as palavras em minúsculas) e vetorização de texto (por exemplo, usando modelos Bag of Words ou TF-IDF) para transformar o texto em formato adequado para análise.\n",
        "\n",
        "\n",
        "3. **Modelagem e Aprendizado de Máquina:**\n",
        "   - A ciência de dados aplica algoritmos de aprendizado de máquina, como Naive Bayes, Support Vector Machines (SVM), árvores de decisão ou redes neurais, para treinar modelos de classificação. Esses modelos são alimentados com os dados preparados e usados para aprender a distinguir entre spam e não spam com base nos recursos extraídos. Nesse caso, a opção de utilização foi \"Random Forest\".\n"
      ],
      "metadata": {
        "id": "VEWgwpdYhNC-"
      }
    },
    {
      "cell_type": "code",
      "source": [
        "X = data.iloc[:, :-1]\n",
        "y = data.iloc[:, -1]\n",
        "\n",
        "X_train, X_test, y_train, y_test = train_test_split(X, y, test_size=0.2, random_state=42)\n",
        "\n",
        "model = RandomForestClassifier(random_state=42)\n",
        "\n",
        "model.fit(X_train, y_train)"
      ],
      "metadata": {
        "colab": {
          "base_uri": "https://localhost:8080/",
          "height": 75
        },
        "id": "CwZLXm30hTg8",
        "outputId": "b74d3021-3651-45d1-9df6-ce45e2033552"
      },
      "execution_count": 3,
      "outputs": [
        {
          "output_type": "execute_result",
          "data": {
            "text/plain": [
              "RandomForestClassifier(random_state=42)"
            ],
            "text/html": [
              "<style>#sk-container-id-1 {color: black;background-color: white;}#sk-container-id-1 pre{padding: 0;}#sk-container-id-1 div.sk-toggleable {background-color: white;}#sk-container-id-1 label.sk-toggleable__label {cursor: pointer;display: block;width: 100%;margin-bottom: 0;padding: 0.3em;box-sizing: border-box;text-align: center;}#sk-container-id-1 label.sk-toggleable__label-arrow:before {content: \"▸\";float: left;margin-right: 0.25em;color: #696969;}#sk-container-id-1 label.sk-toggleable__label-arrow:hover:before {color: black;}#sk-container-id-1 div.sk-estimator:hover label.sk-toggleable__label-arrow:before {color: black;}#sk-container-id-1 div.sk-toggleable__content {max-height: 0;max-width: 0;overflow: hidden;text-align: left;background-color: #f0f8ff;}#sk-container-id-1 div.sk-toggleable__content pre {margin: 0.2em;color: black;border-radius: 0.25em;background-color: #f0f8ff;}#sk-container-id-1 input.sk-toggleable__control:checked~div.sk-toggleable__content {max-height: 200px;max-width: 100%;overflow: auto;}#sk-container-id-1 input.sk-toggleable__control:checked~label.sk-toggleable__label-arrow:before {content: \"▾\";}#sk-container-id-1 div.sk-estimator input.sk-toggleable__control:checked~label.sk-toggleable__label {background-color: #d4ebff;}#sk-container-id-1 div.sk-label input.sk-toggleable__control:checked~label.sk-toggleable__label {background-color: #d4ebff;}#sk-container-id-1 input.sk-hidden--visually {border: 0;clip: rect(1px 1px 1px 1px);clip: rect(1px, 1px, 1px, 1px);height: 1px;margin: -1px;overflow: hidden;padding: 0;position: absolute;width: 1px;}#sk-container-id-1 div.sk-estimator {font-family: monospace;background-color: #f0f8ff;border: 1px dotted black;border-radius: 0.25em;box-sizing: border-box;margin-bottom: 0.5em;}#sk-container-id-1 div.sk-estimator:hover {background-color: #d4ebff;}#sk-container-id-1 div.sk-parallel-item::after {content: \"\";width: 100%;border-bottom: 1px solid gray;flex-grow: 1;}#sk-container-id-1 div.sk-label:hover label.sk-toggleable__label {background-color: #d4ebff;}#sk-container-id-1 div.sk-serial::before {content: \"\";position: absolute;border-left: 1px solid gray;box-sizing: border-box;top: 0;bottom: 0;left: 50%;z-index: 0;}#sk-container-id-1 div.sk-serial {display: flex;flex-direction: column;align-items: center;background-color: white;padding-right: 0.2em;padding-left: 0.2em;position: relative;}#sk-container-id-1 div.sk-item {position: relative;z-index: 1;}#sk-container-id-1 div.sk-parallel {display: flex;align-items: stretch;justify-content: center;background-color: white;position: relative;}#sk-container-id-1 div.sk-item::before, #sk-container-id-1 div.sk-parallel-item::before {content: \"\";position: absolute;border-left: 1px solid gray;box-sizing: border-box;top: 0;bottom: 0;left: 50%;z-index: -1;}#sk-container-id-1 div.sk-parallel-item {display: flex;flex-direction: column;z-index: 1;position: relative;background-color: white;}#sk-container-id-1 div.sk-parallel-item:first-child::after {align-self: flex-end;width: 50%;}#sk-container-id-1 div.sk-parallel-item:last-child::after {align-self: flex-start;width: 50%;}#sk-container-id-1 div.sk-parallel-item:only-child::after {width: 0;}#sk-container-id-1 div.sk-dashed-wrapped {border: 1px dashed gray;margin: 0 0.4em 0.5em 0.4em;box-sizing: border-box;padding-bottom: 0.4em;background-color: white;}#sk-container-id-1 div.sk-label label {font-family: monospace;font-weight: bold;display: inline-block;line-height: 1.2em;}#sk-container-id-1 div.sk-label-container {text-align: center;}#sk-container-id-1 div.sk-container {/* jupyter's `normalize.less` sets `[hidden] { display: none; }` but bootstrap.min.css set `[hidden] { display: none !important; }` so we also need the `!important` here to be able to override the default hidden behavior on the sphinx rendered scikit-learn.org. See: https://github.com/scikit-learn/scikit-learn/issues/21755 */display: inline-block !important;position: relative;}#sk-container-id-1 div.sk-text-repr-fallback {display: none;}</style><div id=\"sk-container-id-1\" class=\"sk-top-container\"><div class=\"sk-text-repr-fallback\"><pre>RandomForestClassifier(random_state=42)</pre><b>In a Jupyter environment, please rerun this cell to show the HTML representation or trust the notebook. <br />On GitHub, the HTML representation is unable to render, please try loading this page with nbviewer.org.</b></div><div class=\"sk-container\" hidden><div class=\"sk-item\"><div class=\"sk-estimator sk-toggleable\"><input class=\"sk-toggleable__control sk-hidden--visually\" id=\"sk-estimator-id-1\" type=\"checkbox\" checked><label for=\"sk-estimator-id-1\" class=\"sk-toggleable__label sk-toggleable__label-arrow\">RandomForestClassifier</label><div class=\"sk-toggleable__content\"><pre>RandomForestClassifier(random_state=42)</pre></div></div></div></div></div>"
            ]
          },
          "metadata": {},
          "execution_count": 3
        }
      ]
    },
    {
      "cell_type": "markdown",
      "source": [
        "4. **Avaliação de Desempenho:**\n",
        "   - Após o treinamento do modelo, a ciência de dados avalia seu desempenho usando métricas como precisão, recall, F1-score e acurácia. Isso ajuda a determinar quão bem o modelo está classificando os e-mails e se precisa ser ajustado.\n",
        "\n",
        "5. **Ajuste de Parâmetros:**\n",
        "   - A ciência de dados realiza ajustes nos parâmetros do modelo para otimizar seu desempenho. Isso envolve a experimentação com diferentes configurações do modelo para encontrar a combinação que produz os melhores resultados.\n"
      ],
      "metadata": {
        "id": "eLGkdGTZhiLr"
      }
    },
    {
      "cell_type": "code",
      "source": [
        "y_pred = model.predict(X_test)\n",
        "\n",
        "accuracy = accuracy_score(y_test, y_pred)\n",
        "report = classification_report(y_test, y_pred)\n",
        "\n",
        "print(\"Resultados da classificação de e-mails como spam ou não spam:\")\n",
        "print(\"------------------------------------------------------------\")\n",
        "print(f\"Acurácia do modelo: {accuracy:.2f}\")\n",
        "print(\"------------------------------------------------------------\")\n",
        "print(\"Relatório de classificação:\")\n",
        "print(report)"
      ],
      "metadata": {
        "colab": {
          "base_uri": "https://localhost:8080/"
        },
        "id": "vCBZhnQuhmxo",
        "outputId": "73a49243-480f-4485-9373-78cddc25dc8f"
      },
      "execution_count": 4,
      "outputs": [
        {
          "output_type": "stream",
          "name": "stdout",
          "text": [
            "Resultados da classificação de e-mails como spam ou não spam:\n",
            "------------------------------------------------------------\n",
            "Acurácia do modelo: 0.93\n",
            "------------------------------------------------------------\n",
            "Relatório de classificação:\n",
            "              precision    recall  f1-score   support\n",
            "\n",
            "           0       0.92      0.97      0.94       530\n",
            "           1       0.95      0.88      0.91       390\n",
            "\n",
            "    accuracy                           0.93       920\n",
            "   macro avg       0.93      0.92      0.93       920\n",
            "weighted avg       0.93      0.93      0.93       920\n",
            "\n"
          ]
        }
      ]
    },
    {
      "cell_type": "markdown",
      "source": [
        "No machine learning desenvolvido foi utilizado o algoritmo \"Random Forest\" para a classificação de e-mails como spam ou não spam. A classificação ocorreu da seguinte forma: 0 (não-spam) e 1 (spam).\n",
        "\n",
        "1. Acurácia do Modelo: O modelo alcançou uma acurácia de 0,93, o que significa que classificou corretamente aproximadamente 93% dos e-mails como spam ou não spam.\n",
        "\n",
        "2. Precision e Recall: A precisão (precision) e o recall são métricas importantes. A precisão para a classe \"spam\" é de 0,95, o que significa que quando o modelo classifica um e-mail como spam, ele está correto em 95% das vezes. O recall para a classe \"spam\" é de 0,88, indicando que o modelo identifica 88% de todos os e-mails de spam presentes no conjunto de dados.\n",
        "\n",
        "3. F1-Score: O F1-score é uma métrica que leva em consideração tanto a precisão quanto o recall. O F1-score médio é de 0,93, o que indica um bom equilíbrio entre precisão e recall.\n",
        "    \n",
        "    \n",
        "\n",
        "\n",
        "\n",
        "Em resumo, a ciência de dados fornece as ferramentas e técnicas necessárias para coletar, processar, modelar e implementar sistemas de classificação de e-mails em spam ou não spam, melhorando assim a experiência do usuário e a segurança das caixas de entrada de e-mail."
      ],
      "metadata": {
        "id": "9HzuD-GGhuO9"
      }
    }
  ]
}