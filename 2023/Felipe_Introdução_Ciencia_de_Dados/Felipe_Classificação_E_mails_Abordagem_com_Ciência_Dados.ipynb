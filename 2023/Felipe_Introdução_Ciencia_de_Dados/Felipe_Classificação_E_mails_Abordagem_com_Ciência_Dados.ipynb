{
  "nbformat": 4,
  "nbformat_minor": 0,
  "metadata": {
    "colab": {
      "provenance": []
    },
    "kernelspec": {
      "name": "python3",
      "display_name": "Python 3"
    },
    "language_info": {
      "name": "python"
    }
  },
  "cells": [
    {
      "cell_type": "markdown",
      "source": [
        "# **Classificação de E-mails: Uma Abordagem com Ciência de Dados.**\n",
        "\n",
        "Neste notebook, abordaremos como a ciência de dados pode ser aplicada para classificar e-mails como spam ou não spam. A classificação de e-mails é uma tarefa importante para melhorar a experiência do usuário ao filtrar mensagens indesejadas. Neste notebook será seguida uma abordagem passo a passo usando Python e bibliotecas populares de aprendizado de máquina e processamento de linguagem natural (PLN).\n",
        "\n",
        "#**Abordagens para a Classificação**\n",
        "\n",
        "Na classificação de e-mails em spam ou não spam, várias técnicas de aprendizado de máquina e ciência de dados podem ser utilizadas. Aqui estão algumas das abordagens comuns:\n",
        "\n",
        "1. Naive Bayes: O classificador Naive Bayes é amplamente usado na classificação de texto, incluindo a classificação de e-mails. Ele funciona bem para tarefas de processamento de linguagem natural, como a classificação de palavras-chave e análise de texto.\n",
        "2. Random Forest: Uma extensão das árvores de decisão, o Random Forest é um algoritmo de conjunto que combina várias árvores de decisão para melhorar o desempenho e a generalização.\n",
        "3. Processamento de Linguagem Natural (NLP): Técnicas avançadas de NLP, como modelos de linguagem pré-treinados (por exemplo, BERT, GPT) ou análise de sentimentos, podem ser incorporadas para melhorar a detecção de spam.\n",
        "\n",
        "#**Classificação Geral**\n",
        "\n",
        "A ciência de dados desempenha um papel fundamental na classificação de e-mails em spam ou não spam. Aqui vamos ter uma implementação geral dessa aboordagem, nela será utilizado o conjunto de dados \"spambase_ham_dataset.csv\", encontrado em:https://archive.ics.uci.edu/dataset/94/spambase, que possui uma quantidade de 4601 instâncias para a classificação com o modelo produzido:\n",
        "\n",
        "1. **Coleta e Preparação de Dados:**\n",
        "   - A ciência de dados começa com a coleta de dados relevantes. Para classificar e-mails, é necessário ter um conjunto de dados que contenha e-mails rotulados como spam e não spam. A ciência de dados ajuda a coletar, limpar e preparar esses dados, removendo duplicatas, tratando valores ausentes e realizando outras operações de limpeza. Na etapa inicial é realizada as importações.\n",
        "   "
      ],
      "metadata": {
        "id": "HWOGA6APbsIh"
      }
    },
    {
      "cell_type": "code",
      "source": [
        "import pandas as pd\n",
        "from sklearn.feature_extraction.text import TfidfVectorizer\n",
        "from sklearn.ensemble import RandomForestClassifier\n",
        "from sklearn.model_selection import train_test_split\n",
        "from sklearn.metrics import accuracy_score, classification_report\n",
        "from nltk.tokenize import word_tokenize\n",
        "import nltk\n"
      ],
      "metadata": {
        "id": "ktWHhpmghD4Z"
      },
      "execution_count": 9,
      "outputs": []
    },
    {
      "cell_type": "markdown",
      "source": [
        "2. **Pré-processamento de Texto:**\n",
        "   - Os e-mails geralmente contêm texto não estruturado. A ciência de dados aplica técnicas de pré-processamento de texto, como tokenização, remoção de stop words, normalização de texto (por exemplo, transformando em caracteres em representação numérica)para transformar o texto em formato adequado para análise.\n"
      ],
      "metadata": {
        "id": "SfImtqN3y9q-"
      }
    },
    {
      "cell_type": "code",
      "source": [
        "\n",
        "nltk.download(\"stopwords\")\n",
        "nltk.download(\"punkt\")\n",
        "\n",
        "# Conjunto de dados CSV\n",
        "data = pd.read_csv(\"spam_ham_dataset.csv\")\n",
        "\n",
        "# Tokenização do texto\n",
        "data[\"tokenized_text\"] = data[\"text\"].apply(lambda text: word_tokenize(text))\n",
        "\n",
        "# Concatena os tokens\n",
        "data[\"tokenized_text\"] = data[\"tokenized_text\"].apply(lambda tokens: \" \".join(tokens))"
      ],
      "metadata": {
        "colab": {
          "base_uri": "https://localhost:8080/"
        },
        "id": "M2r3BLIbzTtl",
        "outputId": "1ceb3e7c-b96a-45e7-d144-5cfaadd69573"
      },
      "execution_count": 10,
      "outputs": [
        {
          "output_type": "stream",
          "name": "stderr",
          "text": [
            "[nltk_data] Downloading package stopwords to /root/nltk_data...\n",
            "[nltk_data]   Package stopwords is already up-to-date!\n",
            "[nltk_data] Downloading package punkt to /root/nltk_data...\n",
            "[nltk_data]   Package punkt is already up-to-date!\n"
          ]
        }
      ]
    },
    {
      "cell_type": "markdown",
      "source": [
        "*Demonstração da tokenização dos Dados:*"
      ],
      "metadata": {
        "id": "LosrbsP04lNa"
      }
    },
    {
      "cell_type": "code",
      "source": [
        "num_samples_to_display = 5\n",
        "sample_indices = range(num_samples_to_display)\n",
        "\n",
        "display_data = {\"Texto Original\": [], \"Tokens\": []}\n",
        "\n",
        "for idx in sample_indices:\n",
        "    display_data[\"Texto Original\"].append(data['text'][idx])\n",
        "    display_data[\"Tokens\"].append(data['tokenized_text'][idx])\n",
        "\n",
        "display_df = pd.DataFrame(display_data)\n",
        "\n",
        "display_df.columns = [\"Texto Original\", \"Tokens\"]\n",
        "\n",
        "display(display_df)\n"
      ],
      "metadata": {
        "colab": {
          "base_uri": "https://localhost:8080/",
          "height": 206
        },
        "id": "5JG0TJP5zEOA",
        "outputId": "f65d08be-3632-4c53-fef0-6fc3f4f323b8"
      },
      "execution_count": 11,
      "outputs": [
        {
          "output_type": "display_data",
          "data": {
            "text/plain": [
              "                                      Texto Original  \\\n",
              "0  Subject: enron methanol ; meter # : 988291\\r\\n...   \n",
              "1  Subject: hpl nom for january 9 , 2001\\r\\n( see...   \n",
              "2  Subject: neon retreat\\r\\nho ho ho , we ' re ar...   \n",
              "3  Subject: photoshop , windows , office . cheap ...   \n",
              "4  Subject: re : indian springs\\r\\nthis deal is t...   \n",
              "\n",
              "                                              Tokens  \n",
              "0  Subject : enron methanol ; meter # : 988291 th...  \n",
              "1  Subject : hpl nom for january 9 , 2001 ( see a...  \n",
              "2  Subject : neon retreat ho ho ho , we ' re arou...  \n",
              "3  Subject : photoshop , windows , office . cheap...  \n",
              "4  Subject : re : indian springs this deal is to ...  "
            ],
            "text/html": [
              "\n",
              "  <div id=\"df-ebac1673-13a1-4a15-be7e-6dedd8f6d8db\" class=\"colab-df-container\">\n",
              "    <div>\n",
              "<style scoped>\n",
              "    .dataframe tbody tr th:only-of-type {\n",
              "        vertical-align: middle;\n",
              "    }\n",
              "\n",
              "    .dataframe tbody tr th {\n",
              "        vertical-align: top;\n",
              "    }\n",
              "\n",
              "    .dataframe thead th {\n",
              "        text-align: right;\n",
              "    }\n",
              "</style>\n",
              "<table border=\"1\" class=\"dataframe\">\n",
              "  <thead>\n",
              "    <tr style=\"text-align: right;\">\n",
              "      <th></th>\n",
              "      <th>Texto Original</th>\n",
              "      <th>Tokens</th>\n",
              "    </tr>\n",
              "  </thead>\n",
              "  <tbody>\n",
              "    <tr>\n",
              "      <th>0</th>\n",
              "      <td>Subject: enron methanol ; meter # : 988291\\r\\n...</td>\n",
              "      <td>Subject : enron methanol ; meter # : 988291 th...</td>\n",
              "    </tr>\n",
              "    <tr>\n",
              "      <th>1</th>\n",
              "      <td>Subject: hpl nom for january 9 , 2001\\r\\n( see...</td>\n",
              "      <td>Subject : hpl nom for january 9 , 2001 ( see a...</td>\n",
              "    </tr>\n",
              "    <tr>\n",
              "      <th>2</th>\n",
              "      <td>Subject: neon retreat\\r\\nho ho ho , we ' re ar...</td>\n",
              "      <td>Subject : neon retreat ho ho ho , we ' re arou...</td>\n",
              "    </tr>\n",
              "    <tr>\n",
              "      <th>3</th>\n",
              "      <td>Subject: photoshop , windows , office . cheap ...</td>\n",
              "      <td>Subject : photoshop , windows , office . cheap...</td>\n",
              "    </tr>\n",
              "    <tr>\n",
              "      <th>4</th>\n",
              "      <td>Subject: re : indian springs\\r\\nthis deal is t...</td>\n",
              "      <td>Subject : re : indian springs this deal is to ...</td>\n",
              "    </tr>\n",
              "  </tbody>\n",
              "</table>\n",
              "</div>\n",
              "    <div class=\"colab-df-buttons\">\n",
              "\n",
              "  <div class=\"colab-df-container\">\n",
              "    <button class=\"colab-df-convert\" onclick=\"convertToInteractive('df-ebac1673-13a1-4a15-be7e-6dedd8f6d8db')\"\n",
              "            title=\"Convert this dataframe to an interactive table.\"\n",
              "            style=\"display:none;\">\n",
              "\n",
              "  <svg xmlns=\"http://www.w3.org/2000/svg\" height=\"24px\" viewBox=\"0 -960 960 960\">\n",
              "    <path d=\"M120-120v-720h720v720H120Zm60-500h600v-160H180v160Zm220 220h160v-160H400v160Zm0 220h160v-160H400v160ZM180-400h160v-160H180v160Zm440 0h160v-160H620v160ZM180-180h160v-160H180v160Zm440 0h160v-160H620v160Z\"/>\n",
              "  </svg>\n",
              "    </button>\n",
              "\n",
              "  <style>\n",
              "    .colab-df-container {\n",
              "      display:flex;\n",
              "      gap: 12px;\n",
              "    }\n",
              "\n",
              "    .colab-df-convert {\n",
              "      background-color: #E8F0FE;\n",
              "      border: none;\n",
              "      border-radius: 50%;\n",
              "      cursor: pointer;\n",
              "      display: none;\n",
              "      fill: #1967D2;\n",
              "      height: 32px;\n",
              "      padding: 0 0 0 0;\n",
              "      width: 32px;\n",
              "    }\n",
              "\n",
              "    .colab-df-convert:hover {\n",
              "      background-color: #E2EBFA;\n",
              "      box-shadow: 0px 1px 2px rgba(60, 64, 67, 0.3), 0px 1px 3px 1px rgba(60, 64, 67, 0.15);\n",
              "      fill: #174EA6;\n",
              "    }\n",
              "\n",
              "    .colab-df-buttons div {\n",
              "      margin-bottom: 4px;\n",
              "    }\n",
              "\n",
              "    [theme=dark] .colab-df-convert {\n",
              "      background-color: #3B4455;\n",
              "      fill: #D2E3FC;\n",
              "    }\n",
              "\n",
              "    [theme=dark] .colab-df-convert:hover {\n",
              "      background-color: #434B5C;\n",
              "      box-shadow: 0px 1px 3px 1px rgba(0, 0, 0, 0.15);\n",
              "      filter: drop-shadow(0px 1px 2px rgba(0, 0, 0, 0.3));\n",
              "      fill: #FFFFFF;\n",
              "    }\n",
              "  </style>\n",
              "\n",
              "    <script>\n",
              "      const buttonEl =\n",
              "        document.querySelector('#df-ebac1673-13a1-4a15-be7e-6dedd8f6d8db button.colab-df-convert');\n",
              "      buttonEl.style.display =\n",
              "        google.colab.kernel.accessAllowed ? 'block' : 'none';\n",
              "\n",
              "      async function convertToInteractive(key) {\n",
              "        const element = document.querySelector('#df-ebac1673-13a1-4a15-be7e-6dedd8f6d8db');\n",
              "        const dataTable =\n",
              "          await google.colab.kernel.invokeFunction('convertToInteractive',\n",
              "                                                    [key], {});\n",
              "        if (!dataTable) return;\n",
              "\n",
              "        const docLinkHtml = 'Like what you see? Visit the ' +\n",
              "          '<a target=\"_blank\" href=https://colab.research.google.com/notebooks/data_table.ipynb>data table notebook</a>'\n",
              "          + ' to learn more about interactive tables.';\n",
              "        element.innerHTML = '';\n",
              "        dataTable['output_type'] = 'display_data';\n",
              "        await google.colab.output.renderOutput(dataTable, element);\n",
              "        const docLink = document.createElement('div');\n",
              "        docLink.innerHTML = docLinkHtml;\n",
              "        element.appendChild(docLink);\n",
              "      }\n",
              "    </script>\n",
              "  </div>\n",
              "\n",
              "\n",
              "<div id=\"df-29ae0e36-a8b4-428a-b5f2-6fae7c5555f4\">\n",
              "  <button class=\"colab-df-quickchart\" onclick=\"quickchart('df-29ae0e36-a8b4-428a-b5f2-6fae7c5555f4')\"\n",
              "            title=\"Suggest charts\"\n",
              "            style=\"display:none;\">\n",
              "\n",
              "<svg xmlns=\"http://www.w3.org/2000/svg\" height=\"24px\"viewBox=\"0 0 24 24\"\n",
              "     width=\"24px\">\n",
              "    <g>\n",
              "        <path d=\"M19 3H5c-1.1 0-2 .9-2 2v14c0 1.1.9 2 2 2h14c1.1 0 2-.9 2-2V5c0-1.1-.9-2-2-2zM9 17H7v-7h2v7zm4 0h-2V7h2v10zm4 0h-2v-4h2v4z\"/>\n",
              "    </g>\n",
              "</svg>\n",
              "  </button>\n",
              "\n",
              "<style>\n",
              "  .colab-df-quickchart {\n",
              "      --bg-color: #E8F0FE;\n",
              "      --fill-color: #1967D2;\n",
              "      --hover-bg-color: #E2EBFA;\n",
              "      --hover-fill-color: #174EA6;\n",
              "      --disabled-fill-color: #AAA;\n",
              "      --disabled-bg-color: #DDD;\n",
              "  }\n",
              "\n",
              "  [theme=dark] .colab-df-quickchart {\n",
              "      --bg-color: #3B4455;\n",
              "      --fill-color: #D2E3FC;\n",
              "      --hover-bg-color: #434B5C;\n",
              "      --hover-fill-color: #FFFFFF;\n",
              "      --disabled-bg-color: #3B4455;\n",
              "      --disabled-fill-color: #666;\n",
              "  }\n",
              "\n",
              "  .colab-df-quickchart {\n",
              "    background-color: var(--bg-color);\n",
              "    border: none;\n",
              "    border-radius: 50%;\n",
              "    cursor: pointer;\n",
              "    display: none;\n",
              "    fill: var(--fill-color);\n",
              "    height: 32px;\n",
              "    padding: 0;\n",
              "    width: 32px;\n",
              "  }\n",
              "\n",
              "  .colab-df-quickchart:hover {\n",
              "    background-color: var(--hover-bg-color);\n",
              "    box-shadow: 0 1px 2px rgba(60, 64, 67, 0.3), 0 1px 3px 1px rgba(60, 64, 67, 0.15);\n",
              "    fill: var(--button-hover-fill-color);\n",
              "  }\n",
              "\n",
              "  .colab-df-quickchart-complete:disabled,\n",
              "  .colab-df-quickchart-complete:disabled:hover {\n",
              "    background-color: var(--disabled-bg-color);\n",
              "    fill: var(--disabled-fill-color);\n",
              "    box-shadow: none;\n",
              "  }\n",
              "\n",
              "  .colab-df-spinner {\n",
              "    border: 2px solid var(--fill-color);\n",
              "    border-color: transparent;\n",
              "    border-bottom-color: var(--fill-color);\n",
              "    animation:\n",
              "      spin 1s steps(1) infinite;\n",
              "  }\n",
              "\n",
              "  @keyframes spin {\n",
              "    0% {\n",
              "      border-color: transparent;\n",
              "      border-bottom-color: var(--fill-color);\n",
              "      border-left-color: var(--fill-color);\n",
              "    }\n",
              "    20% {\n",
              "      border-color: transparent;\n",
              "      border-left-color: var(--fill-color);\n",
              "      border-top-color: var(--fill-color);\n",
              "    }\n",
              "    30% {\n",
              "      border-color: transparent;\n",
              "      border-left-color: var(--fill-color);\n",
              "      border-top-color: var(--fill-color);\n",
              "      border-right-color: var(--fill-color);\n",
              "    }\n",
              "    40% {\n",
              "      border-color: transparent;\n",
              "      border-right-color: var(--fill-color);\n",
              "      border-top-color: var(--fill-color);\n",
              "    }\n",
              "    60% {\n",
              "      border-color: transparent;\n",
              "      border-right-color: var(--fill-color);\n",
              "    }\n",
              "    80% {\n",
              "      border-color: transparent;\n",
              "      border-right-color: var(--fill-color);\n",
              "      border-bottom-color: var(--fill-color);\n",
              "    }\n",
              "    90% {\n",
              "      border-color: transparent;\n",
              "      border-bottom-color: var(--fill-color);\n",
              "    }\n",
              "  }\n",
              "</style>\n",
              "\n",
              "  <script>\n",
              "    async function quickchart(key) {\n",
              "      const quickchartButtonEl =\n",
              "        document.querySelector('#' + key + ' button');\n",
              "      quickchartButtonEl.disabled = true;  // To prevent multiple clicks.\n",
              "      quickchartButtonEl.classList.add('colab-df-spinner');\n",
              "      try {\n",
              "        const charts = await google.colab.kernel.invokeFunction(\n",
              "            'suggestCharts', [key], {});\n",
              "      } catch (error) {\n",
              "        console.error('Error during call to suggestCharts:', error);\n",
              "      }\n",
              "      quickchartButtonEl.classList.remove('colab-df-spinner');\n",
              "      quickchartButtonEl.classList.add('colab-df-quickchart-complete');\n",
              "    }\n",
              "    (() => {\n",
              "      let quickchartButtonEl =\n",
              "        document.querySelector('#df-29ae0e36-a8b4-428a-b5f2-6fae7c5555f4 button');\n",
              "      quickchartButtonEl.style.display =\n",
              "        google.colab.kernel.accessAllowed ? 'block' : 'none';\n",
              "    })();\n",
              "  </script>\n",
              "</div>\n",
              "    </div>\n",
              "  </div>\n"
            ]
          },
          "metadata": {}
        }
      ]
    },
    {
      "cell_type": "markdown",
      "source": [
        "\n",
        "3. **Modelagem e Aprendizado de Máquina:**\n",
        "   - A ciência de dados aplica algoritmos de aprendizado de máquina, como Naive Bayes, Support Vector Machines (SVM), árvores de decisão ou redes neurais, para treinar modelos de classificação. Esses modelos são alimentados com os dados preparados e usados para aprender a distinguir entre spam e não spam com base nos recursos extraídos. Nesse caso, a opção de utilização foi \"Random Forest\".\n"
      ],
      "metadata": {
        "id": "VEWgwpdYhNC-"
      }
    },
    {
      "cell_type": "code",
      "source": [
        "# Pré-processamento do texto\n",
        "tfidf_vectorizer = TfidfVectorizer(max_features=5000, stop_words=\"english\")\n",
        "X = tfidf_vectorizer.fit_transform(data[\"tokenized_text\"])\n",
        "y = data[\"label_num\"]\n",
        "\n",
        "# Divisão dos dados em conjuntos de treinamento e teste\n",
        "X_train, X_test, y_train, y_test = train_test_split(X, y, test_size=0.2, random_state=42)\n",
        "\n",
        "# Treinamento do modelo \"Random Forest\"\n",
        "rf_classifier = RandomForestClassifier(n_estimators=100, random_state=42)\n",
        "rf_classifier.fit(X_train, y_train)\n"
      ],
      "metadata": {
        "colab": {
          "base_uri": "https://localhost:8080/",
          "height": 74
        },
        "id": "CwZLXm30hTg8",
        "outputId": "c2e259bc-db16-47c8-96b9-149ace4fd863"
      },
      "execution_count": 12,
      "outputs": [
        {
          "output_type": "execute_result",
          "data": {
            "text/plain": [
              "RandomForestClassifier(random_state=42)"
            ],
            "text/html": [
              "<style>#sk-container-id-2 {color: black;background-color: white;}#sk-container-id-2 pre{padding: 0;}#sk-container-id-2 div.sk-toggleable {background-color: white;}#sk-container-id-2 label.sk-toggleable__label {cursor: pointer;display: block;width: 100%;margin-bottom: 0;padding: 0.3em;box-sizing: border-box;text-align: center;}#sk-container-id-2 label.sk-toggleable__label-arrow:before {content: \"▸\";float: left;margin-right: 0.25em;color: #696969;}#sk-container-id-2 label.sk-toggleable__label-arrow:hover:before {color: black;}#sk-container-id-2 div.sk-estimator:hover label.sk-toggleable__label-arrow:before {color: black;}#sk-container-id-2 div.sk-toggleable__content {max-height: 0;max-width: 0;overflow: hidden;text-align: left;background-color: #f0f8ff;}#sk-container-id-2 div.sk-toggleable__content pre {margin: 0.2em;color: black;border-radius: 0.25em;background-color: #f0f8ff;}#sk-container-id-2 input.sk-toggleable__control:checked~div.sk-toggleable__content {max-height: 200px;max-width: 100%;overflow: auto;}#sk-container-id-2 input.sk-toggleable__control:checked~label.sk-toggleable__label-arrow:before {content: \"▾\";}#sk-container-id-2 div.sk-estimator input.sk-toggleable__control:checked~label.sk-toggleable__label {background-color: #d4ebff;}#sk-container-id-2 div.sk-label input.sk-toggleable__control:checked~label.sk-toggleable__label {background-color: #d4ebff;}#sk-container-id-2 input.sk-hidden--visually {border: 0;clip: rect(1px 1px 1px 1px);clip: rect(1px, 1px, 1px, 1px);height: 1px;margin: -1px;overflow: hidden;padding: 0;position: absolute;width: 1px;}#sk-container-id-2 div.sk-estimator {font-family: monospace;background-color: #f0f8ff;border: 1px dotted black;border-radius: 0.25em;box-sizing: border-box;margin-bottom: 0.5em;}#sk-container-id-2 div.sk-estimator:hover {background-color: #d4ebff;}#sk-container-id-2 div.sk-parallel-item::after {content: \"\";width: 100%;border-bottom: 1px solid gray;flex-grow: 1;}#sk-container-id-2 div.sk-label:hover label.sk-toggleable__label {background-color: #d4ebff;}#sk-container-id-2 div.sk-serial::before {content: \"\";position: absolute;border-left: 1px solid gray;box-sizing: border-box;top: 0;bottom: 0;left: 50%;z-index: 0;}#sk-container-id-2 div.sk-serial {display: flex;flex-direction: column;align-items: center;background-color: white;padding-right: 0.2em;padding-left: 0.2em;position: relative;}#sk-container-id-2 div.sk-item {position: relative;z-index: 1;}#sk-container-id-2 div.sk-parallel {display: flex;align-items: stretch;justify-content: center;background-color: white;position: relative;}#sk-container-id-2 div.sk-item::before, #sk-container-id-2 div.sk-parallel-item::before {content: \"\";position: absolute;border-left: 1px solid gray;box-sizing: border-box;top: 0;bottom: 0;left: 50%;z-index: -1;}#sk-container-id-2 div.sk-parallel-item {display: flex;flex-direction: column;z-index: 1;position: relative;background-color: white;}#sk-container-id-2 div.sk-parallel-item:first-child::after {align-self: flex-end;width: 50%;}#sk-container-id-2 div.sk-parallel-item:last-child::after {align-self: flex-start;width: 50%;}#sk-container-id-2 div.sk-parallel-item:only-child::after {width: 0;}#sk-container-id-2 div.sk-dashed-wrapped {border: 1px dashed gray;margin: 0 0.4em 0.5em 0.4em;box-sizing: border-box;padding-bottom: 0.4em;background-color: white;}#sk-container-id-2 div.sk-label label {font-family: monospace;font-weight: bold;display: inline-block;line-height: 1.2em;}#sk-container-id-2 div.sk-label-container {text-align: center;}#sk-container-id-2 div.sk-container {/* jupyter's `normalize.less` sets `[hidden] { display: none; }` but bootstrap.min.css set `[hidden] { display: none !important; }` so we also need the `!important` here to be able to override the default hidden behavior on the sphinx rendered scikit-learn.org. See: https://github.com/scikit-learn/scikit-learn/issues/21755 */display: inline-block !important;position: relative;}#sk-container-id-2 div.sk-text-repr-fallback {display: none;}</style><div id=\"sk-container-id-2\" class=\"sk-top-container\"><div class=\"sk-text-repr-fallback\"><pre>RandomForestClassifier(random_state=42)</pre><b>In a Jupyter environment, please rerun this cell to show the HTML representation or trust the notebook. <br />On GitHub, the HTML representation is unable to render, please try loading this page with nbviewer.org.</b></div><div class=\"sk-container\" hidden><div class=\"sk-item\"><div class=\"sk-estimator sk-toggleable\"><input class=\"sk-toggleable__control sk-hidden--visually\" id=\"sk-estimator-id-2\" type=\"checkbox\" checked><label for=\"sk-estimator-id-2\" class=\"sk-toggleable__label sk-toggleable__label-arrow\">RandomForestClassifier</label><div class=\"sk-toggleable__content\"><pre>RandomForestClassifier(random_state=42)</pre></div></div></div></div></div>"
            ]
          },
          "metadata": {},
          "execution_count": 12
        }
      ]
    },
    {
      "cell_type": "markdown",
      "source": [
        "4. **Avaliação de Desempenho:**\n",
        "   - Após o treinamento do modelo, a ciência de dados avalia seu desempenho usando métricas como precisão, recall, F1-score e acurácia. Isso ajuda a determinar quão bem o modelo está classificando os e-mails e se precisa ser ajustado. Isso envolve a experimentação com diferentes configurações do modelo para encontrar a combinação que produz os melhores resultados.\n"
      ],
      "metadata": {
        "id": "eLGkdGTZhiLr"
      }
    },
    {
      "cell_type": "code",
      "source": [
        "# Previsões do modelo\n",
        "y_pred = rf_classifier.predict(X_test)\n",
        "\n",
        "# Avaliação do modelo\n",
        "accuracy = accuracy_score(y_test, y_pred)\n",
        "report = classification_report(y_test, y_pred, target_names=[\"ham\", \"spam\"])\n",
        "\n",
        "print(f\"Acurácia do modelo: {accuracy:.2f}\")\n",
        "print(\"Relatório de classificação:\\n\", report)\n"
      ],
      "metadata": {
        "colab": {
          "base_uri": "https://localhost:8080/"
        },
        "id": "vCBZhnQuhmxo",
        "outputId": "d54bea15-1d34-4c49-914b-a8cbe62a5441"
      },
      "execution_count": 13,
      "outputs": [
        {
          "output_type": "stream",
          "name": "stdout",
          "text": [
            "Acurácia do modelo: 0.98\n",
            "Relatório de classificação:\n",
            "               precision    recall  f1-score   support\n",
            "\n",
            "         ham       0.99      0.97      0.98       742\n",
            "        spam       0.94      0.98      0.96       293\n",
            "\n",
            "    accuracy                           0.98      1035\n",
            "   macro avg       0.96      0.98      0.97      1035\n",
            "weighted avg       0.98      0.98      0.98      1035\n",
            "\n"
          ]
        }
      ]
    },
    {
      "cell_type": "markdown",
      "source": [
        "No machine learning desenvolvido foi utilizado o algoritmo \"Random Forest\" para a classificação de e-mails como spam ou não spam. A classificação ocorreu da seguinte forma: Ham (não-spam) e Spam.\n",
        "\n",
        "1. Acurácia do Modelo: O modelo alcançou uma acurácia de 0,98, o que significa que classificou corretamente aproximadamente 98% dos e-mails como spam ou não spam.\n",
        "\n",
        "2. Precision e Recall: A precisão (precision) e o recall são métricas importantes. A precisão para a classe \"spam\" é de 0,99, o que significa que quando o modelo classifica um e-mail como spam, ele está correto em 99% das vezes. O recall para a classe \"spam\" é de 0,97, indicando que o modelo identifica 97% de todos os e-mails de spam presentes no conjunto de dados.\n",
        "\n",
        "3. F1-Score: O F1-score é uma métrica que leva em consideração tanto a precisão quanto o recall. O F1-score médio é de 0,98, o que indica um bom equilíbrio entre precisão e recall.\n",
        "\n",
        "\n"
      ],
      "metadata": {
        "id": "9HzuD-GGhuO9"
      }
    },
    {
      "cell_type": "markdown",
      "source": [
        "Ao fim dos testes temos uma quantia (support) de 1035 instâncias por que as outras 3566 instâncias foram usadas para o treinamento, ficando 1035 para testes.\n",
        "\n",
        "\n",
        "\n",
        "Em resumo, a ciência de dados fornece as ferramentas e técnicas necessárias para coletar, processar, modelar e implementar sistemas de classificação de e-mails em spam ou não spam, melhorando assim a experiência do usuário e a segurança das caixas de entrada de e-mail."
      ],
      "metadata": {
        "id": "mINdaxjS9JCJ"
      }
    }
  ]
}