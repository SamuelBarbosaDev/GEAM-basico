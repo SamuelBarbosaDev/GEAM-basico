{
  "nbformat": 4,
  "nbformat_minor": 0,
  "metadata": {
    "colab": {
      "provenance": []
    },
    "kernelspec": {
      "name": "python3",
      "display_name": "Python 3"
    },
    "language_info": {
      "name": "python"
    }
  },
  "cells": [
    {
      "cell_type": "code",
      "execution_count": 1,
      "metadata": {
        "id": "DU-XBj3BmqJU"
      },
      "outputs": [],
      "source": [
        "import pandas as pd\n",
        "import matplotlib.pyplot as plt\n",
        "import random"
      ]
    },
    {
      "cell_type": "markdown",
      "source": [
        "#**Tipos de Análise Exploratória de Dados**\n",
        "\n",
        "Neste notebook, vamos explorar diferentes tipos de análise exploratória de dados (EDA - Exploratory Data Analysis). A EDA é uma etapa crucial na análise de dados, que nos permite compreender melhor os conjuntos de dados, identificar padrões, tendências e relações entre as variáveis. Vamos abordar os seguintes tipos de análise:\n",
        "\n",
        "1. Univariada sem gráficos\n",
        "2. Univariada gráfica\n",
        "3. Multivariada sem gráficos\n",
        "4. Multivariada com gráficos\n",
        "\n",
        "**1. Univariada sem gráficos:**\n",
        "\n",
        "A análise univariada sem gráficos é uma forma simples de análise de dados que lida com apenas uma variável. O objetivo principal é descrever os dados e identificar padrões dentro deles. Essa análise não leva em consideração causas ou relacionamentos.\n",
        "\n",
        "Vamos realizar uma análise univariada sem gráficos em nosso conjunto de dados."
      ],
      "metadata": {
        "id": "d3TV5mEUokiJ"
      }
    },
    {
      "cell_type": "code",
      "source": [
        "\n",
        "url_arquivo = \"https://huggingface.co/datasets/scikit-learn/iris/raw/main/Iris.csv\"\n",
        "\n",
        "# Carregar os dados\n",
        "dados = pd.read_csv(url_arquivo)\n",
        "\n",
        "# Verificar o nome das colunas\n",
        "print(dados.columns)\n",
        "\n",
        "# Escolher a coluna correta para análise univariada (por exemplo, 'SepalLengthCm')\n",
        "variavel = dados['SepalLengthCm']\n",
        "estatisticas_descritivas = variavel.describe()\n",
        "\n",
        "print(estatisticas_descritivas)\n",
        "\n"
      ],
      "metadata": {
        "id": "qmuCXB5LpP8a"
      },
      "execution_count": null,
      "outputs": []
    },
    {
      "cell_type": "markdown",
      "source": [
        "Neste exemplo, carregamos os dados de um arquivo CSV e selecionamos uma variável específica para análise. Usamos o método describe() para obter estatísticas descritivas dessa variável, como média, desvio padrão, mínimo, máximo e quartis.\n",
        "\n",
        "\n",
        "**2. Univariada gráfica**\n",
        "\n",
        "A análise univariada gráfica complementa a análise univariada sem gráficos, fornecendo uma visão mais completa dos dados. Vamos explorar alguns tipos comuns de gráficos para análise univariada:\n",
        "\n",
        "*   Tabelas cruzadas: Mostram os valores dos dados e a distribuição.\n",
        "\n",
        "*   Histogramas: Gráficos de colunas que representam a frequência ou proporção de casos em intervalos de valores.\n",
        "\n",
        "*   Diagramas de caixa: Exibem graficamente os cinco números resumidos (mínimo, primeiro quartil, mediana, terceiro quartil e máximo).\n",
        "\n",
        "Vamos usar a biblioteca matplotlib para criar gráficos univariados."
      ],
      "metadata": {
        "id": "Ye0YFyfzpepN"
      }
    },
    {
      "cell_type": "code",
      "source": [
        "\n",
        "# Carregar o arquivo CSV para o ambiente do Colab\n",
        "#uploaded = files.upload()\n",
        "\n",
        "# Obter o nome do arquivo carregado\n",
        "url_arquivo = \"https://huggingface.co/datasets/scikit-learn/iris/raw/main/Iris.csv\"\n",
        "\n",
        "# Carregar os dados\n",
        "dados = pd.read_csv(url_arquivo)\n",
        "\n",
        "# Tabelas cruzadas\n",
        "tabela_cruzada = pd.crosstab(index=dados['SepalLengthCm'], columns='count')\n",
        "\n",
        "# Histogramas\n",
        "plt.hist(dados['SepalLengthCm'], bins=10)\n",
        "plt.xlabel('SepalLengthCm')\n",
        "plt.ylabel('Frequência')\n",
        "plt.title('Histograma da SepalLengthCm')\n",
        "plt.show()\n",
        "\n",
        "# Diagrama de caixa\n",
        "plt.boxplot(dados['SepalLengthCm'])\n",
        "plt.xlabel('SepalLengthCm')\n",
        "plt.title('Diagrama de Caixa da SepalLengthCm')\n",
        "plt.show()\n",
        "\n"
      ],
      "metadata": {
        "id": "V_h_wDP1qL7S"
      },
      "execution_count": null,
      "outputs": []
    },
    {
      "cell_type": "markdown",
      "source": [
        "Neste exemplo, usamos a função crosstab do pandas para criar uma tabela cruzada que mostra a contagem dos valores da variável. Em seguida, criamos um histograma e um diagrama de caixa para visualizar a distribuição e os valores discrepantes da variável.\n",
        "\n",
        "**3. Multivariada sem gráficos**\n",
        "\n",
        "A análise multivariada lida com conjuntos de dados que envolvem mais de uma variável. Na análise multivariada sem gráficos, exploramos a relação entre duas ou mais variáveis por meio de tabulação cruzada ou estatística."
      ],
      "metadata": {
        "id": "J6D1iRmtqReS"
      }
    },
    {
      "cell_type": "code",
      "source": [
        "url_arquivo = \"https://huggingface.co/datasets/scikit-learn/iris/raw/main/Iris.csv\"\n",
        "\n",
        "# Carregar os dados\n",
        "dados = pd.read_csv(url_arquivo)\n",
        "\n",
        "# Dividir o conjunto de dados em dois subconjuntos\n",
        "dados_subconjunto1 = dados.sample(frac=0.5, random_state=42)\n",
        "dados_subconjunto2 = dados.drop(dados_subconjunto1.index)\n",
        "\n",
        "# Análise multivariada - Contagem de flores de cada espécie em cada subconjunto\n",
        "contagem_subconjunto1 = dados_subconjunto1['Species'].value_counts()\n",
        "contagem_subconjunto2 = dados_subconjunto2['Species'].value_counts()\n",
        "\n",
        "# Exibe a contagem de flores de cada espécie em cada subconjunto\n",
        "print(\"Contagem de flores por espécie presente no Subconjunto 1:\")\n",
        "print(contagem_subconjunto1)\n",
        "\n",
        "print(\"\\nContagem de flores por espécie presente no Subconjunto 2:\")\n",
        "print(contagem_subconjunto2)\n"
      ],
      "metadata": {
        "id": "1gBtL3YAqbmD",
        "colab": {
          "base_uri": "https://localhost:8080/"
        },
        "outputId": "7dfe89d0-a384-4ead-dd71-a654eb3d3b08"
      },
      "execution_count": 21,
      "outputs": [
        {
          "output_type": "stream",
          "name": "stdout",
          "text": [
            "Contagem de flores por espécie presente no Subconjunto 1:\n",
            "Iris-setosa        29\n",
            "Iris-versicolor    23\n",
            "Iris-virginica     23\n",
            "Name: Species, dtype: int64\n",
            "\n",
            "Contagem de flores por espécie presente no Subconjunto 2:\n",
            "Iris-versicolor    27\n",
            "Iris-virginica     27\n",
            "Iris-setosa        21\n",
            "Name: Species, dtype: int64\n"
          ]
        }
      ]
    },
    {
      "cell_type": "markdown",
      "source": [
        "Neste exemplo, usamos a função crosstab do pandas para criar uma tabela cruzada que mostra a relação entre duas variáveis. Também é possível usar o método groupby para agrupar as variáveis e calcular estatísticas resumidas. De forma resumida, ele interpreta 2 colunas dentre as disponíveis e faz uma análise de quais tipos de plantas existem(sem uma interpretação gráfica).\n",
        "\n",
        "\n",
        "**4. Multivariada com gráficos**\n",
        "\n",
        "A análise multivariada com gráficos nos permite visualizar as relações entre dois ou mais conjuntos de dados. Um gráfico comumente utilizado é o gráfico de colunas agrupadas, onde cada grupo representa um nível de uma variável e cada coluna dentro de um grupo representa os níveis de outra variável."
      ],
      "metadata": {
        "id": "pXnEWWv9qynz"
      }
    },
    {
      "cell_type": "code",
      "source": [
        "url_arquivo = \"https://huggingface.co/datasets/scikit-learn/iris/raw/main/Iris.csv\"\n",
        "\n",
        "# Carregar os dados\n",
        "dados = pd.read_csv(url_arquivo)\n",
        "\n",
        "# Dividir o conjunto de dados em dois subconjuntos aleatórios\n",
        "dados_subconjunto1 = dados.sample(frac=0.5, random_state=42)\n",
        "dados_subconjunto2 = dados.drop(dados_subconjunto1.index)\n",
        "\n",
        "# Calcular a contagem de flores de cada espécie em cada subconjunto\n",
        "contagem_subconjunto1 = dados_subconjunto1['Species'].value_counts()\n",
        "contagem_subconjunto2 = dados_subconjunto2['Species'].value_counts()\n",
        "\n",
        "# Combinar as contagens dos subconjuntos em um único DataFrame\n",
        "contagem_combinada = pd.concat([contagem_subconjunto1, contagem_subconjunto2], axis=1)\n",
        "contagem_combinada.columns = ['Subconjunto 1', 'Subconjunto 2']\n",
        "\n",
        "# Criar o gráfico de colunas agrupadas para visualizar as contagens de cada espécie em ambos os subconjuntos\n",
        "fig, ax = plt.subplots(figsize=(10, 6))\n",
        "\n",
        "contagem_combinada.plot(kind='bar', ax=ax)\n",
        "ax.set_xlabel('Espécie')\n",
        "ax.set_ylabel('Contagem')\n",
        "ax.set_title('Contagem de Espécies em Subconjuntos 1 e 2')\n",
        "\n",
        "plt.tight_layout()\n",
        "plt.show()\n"
      ],
      "metadata": {
        "id": "2Uzomamcq52L",
        "colab": {
          "base_uri": "https://localhost:8080/",
          "height": 607
        },
        "outputId": "345aa610-2d3f-4b82-8d9a-ba6573e5506c"
      },
      "execution_count": 20,
      "outputs": [
        {
          "output_type": "display_data",
          "data": {
            "text/plain": [
              "<Figure size 1000x600 with 1 Axes>"
            ],
            "image/png": "[encoded data removed]"
          },
          "metadata": {}
        }
      ]
    },
    {
      "cell_type": "markdown",
      "source": [
        "Neste exemplo, usamos o método groupby para agrupar as variáveis e criar um gráfico de colunas agrupadas. Isso nos permite visualizar a relação entre as variáveis e comparar os níveis de uma variável com os níveis de outra. De forma resumida, ele interpreta 2 colunas dentre as disponíveis(nesse caso diferentes espécies de plantas e faz uma contagem dos tipos, logo após essa contagem demonstra a forma gráfica).\n",
        "\n",
        "**Importância:**\n",
        "\n",
        "1. Diversidade de técnicas: Diferentes tipos de análise exploratória usam abordagens variadas, como estatísticas descritivas, gráficos, visualizações, análise de clusters, análise de componentes principais, entre outras. Cada técnica fornece uma perspectiva única dos dados, permitindo uma compreensão mais completa do conjunto de dados.\n",
        "\n",
        "2. Exploração abrangente: A variedade de técnicas de análise exploratória permite explorar os dados de várias maneiras, revelando padrões ocultos ou tendências que podem não ser evidentes em uma única abordagem.\n",
        "\n",
        "\n",
        "Em resumo, ter diferentes tipos de análise exploratória de dados é fundamental para obter uma compreensão completa dos dados, detectar padrões importantes e insights valiosos, além de validar suposições iniciais. Essa diversidade de técnicas ajuda a tornar a análise de dados mais abrangente e eficiente, permitindo que os analistas tomem decisões informadas e precisas com base nos dados disponíveis.\n",
        "\n",
        "\n",
        "#**Bibliografia**\n",
        "\n",
        "**Livros:**\n",
        "\n",
        "*   \"An Introduction to Statistical Learning\" de Gareth James, Daniela Witten, Trevor Hastie, e Robert Tibshirani\".\n",
        "\n",
        "*   \"Python for Data Analysis\" de Wes McKinney\".\n",
        "\n",
        "**Sites**\n",
        "\n",
        "*   https://www.ibm.com/br-pt/topics/exploratory-data-analysis"
      ],
      "metadata": {
        "id": "i_NBi_H5q-d0"
      }
    }
  ]
}