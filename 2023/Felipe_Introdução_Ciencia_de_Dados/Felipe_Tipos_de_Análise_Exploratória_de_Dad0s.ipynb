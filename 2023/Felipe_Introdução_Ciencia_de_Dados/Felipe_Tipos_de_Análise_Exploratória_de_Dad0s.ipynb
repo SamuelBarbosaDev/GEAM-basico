{
  "nbformat": 4,
  "nbformat_minor": 0,
  "metadata": {
    "colab": {
      "provenance": []
    },
    "kernelspec": {
      "name": "python3",
      "display_name": "Python 3"
    },
    "language_info": {
      "name": "python"
    }
  },
  "cells": [
    {
      "cell_type": "code",
      "execution_count": 11,
      "metadata": {
        "id": "DU-XBj3BmqJU"
      },
      "outputs": [],
      "source": []
    },
    {
      "cell_type": "markdown",
      "source": [
        "#***Tipos de Análise Exploratória de Dados***\n",
        "\n",
        "Neste notebook, vamos explorar diferentes tipos de análise exploratória de dados (EDA - Exploratory Data Analysis). A EDA é uma etapa crucial na análise de dados, que nos permite compreender melhor os conjuntos de dados, identificar padrões, tendências e relações entre as variáveis. Vamos abordar os seguintes tipos de análise:\n",
        "\n",
        "1. Univariada sem gráficos\n",
        "2. Univariada gráfica\n",
        "3. Multivariada sem gráficos\n",
        "4. Multivariada com gráficos\n",
        "\n",
        "Vamos começar importando as bibliotecas necessárias e carregando os dados de interesse.\n",
        "\n",
        "**1. Univariada sem gráficos:**\n",
        "\n",
        "A análise univariada sem gráficos é uma forma simples de análise de dados que lida com apenas uma variável. O objetivo principal é descrever os dados e identificar padrões dentro deles. Essa análise não leva em consideração causas ou relacionamentos.\n",
        "\n",
        "Vamos realizar uma análise univariada sem gráficos em nosso conjunto de dados."
      ],
      "metadata": {
        "id": "d3TV5mEUokiJ"
      }
    },
    {
      "cell_type": "code",
      "source": [
        "import pandas as pd\n",
        "from google.colab import files\n",
        "\n",
        "# Carregar o arquivo CSV para o ambiente do Colab\n",
        "uploaded = files.upload()\n",
        "\n",
        "# Obter o nome do arquivo carregado\n",
        "nome_arquivo = list(uploaded.keys())[0]\n",
        "\n",
        "# Carregar os dados\n",
        "dados = pd.read_csv(nome_arquivo)\n",
        "\n",
        "# Análise univariada sem gráficos\n",
        "variavel = dados['variavel']\n",
        "estatisticas_descritivas = variavel.describe()\n",
        "\n",
        "print(estatisticas_descritivas)\n",
        "\n"
      ],
      "metadata": {
        "id": "qmuCXB5LpP8a"
      },
      "execution_count": null,
      "outputs": []
    },
    {
      "cell_type": "markdown",
      "source": [
        "Neste exemplo, carregamos os dados de um arquivo CSV e selecionamos uma variável específica para análise. Usamos o método describe() para obter estatísticas descritivas dessa variável, como média, desvio padrão, mínimo, máximo e quartis.\n",
        "\n",
        "\n",
        "**2. Univariada gráfica**\n",
        "\n",
        "A análise univariada gráfica complementa a análise univariada sem gráficos, fornecendo uma visão mais completa dos dados. Vamos explorar alguns tipos comuns de gráficos para análise univariada:\n",
        "\n",
        "Tabelas cruzadas: Mostram os valores dos dados e a distribuição.\n",
        "Histogramas: Gráficos de colunas que representam a frequência ou proporção de casos em intervalos de valores.\n",
        "Diagramas de caixa: Exibem graficamente os cinco números resumidos (mínimo, primeiro quartil, mediana, terceiro quartil e máximo).\n",
        "Vamos usar a biblioteca matplotlib para criar gráficos univariados."
      ],
      "metadata": {
        "id": "Ye0YFyfzpepN"
      }
    },
    {
      "cell_type": "code",
      "source": [
        "import pandas as pd\n",
        "import matplotlib.pyplot as plt\n",
        "from google.colab import files\n",
        "\n",
        "# Carregar o arquivo CSV para o ambiente do Colab\n",
        "uploaded = files.upload()\n",
        "\n",
        "# Obter o nome do arquivo carregado\n",
        "nome_arquivo = list(uploaded.keys())[0]\n",
        "\n",
        "# Carregar os dados\n",
        "dados = pd.read_csv(nome_arquivo)\n",
        "\n",
        "# Tabelas cruzadas\n",
        "tabela_cruzada = pd.crosstab(index=dados['variavel'], columns='count')\n",
        "\n",
        "# Histogramas\n",
        "plt.hist(dados['variavel'], bins=10)\n",
        "plt.xlabel('Variável')\n",
        "plt.ylabel('Frequência')\n",
        "plt.title('Histograma da Variável')\n",
        "plt.show()\n",
        "\n",
        "# Diagrama de caixa\n",
        "plt.boxplot(dados['variavel'])\n",
        "plt.xlabel('Variável')\n",
        "plt.title('Diagrama de Caixa da Variável')\n",
        "plt.show()\n",
        "\n"
      ],
      "metadata": {
        "id": "V_h_wDP1qL7S"
      },
      "execution_count": null,
      "outputs": []
    },
    {
      "cell_type": "markdown",
      "source": [
        "Neste exemplo, usamos a função crosstab do pandas para criar uma tabela cruzada que mostra a contagem dos valores da variável. Em seguida, criamos um histograma e um diagrama de caixa para visualizar a distribuição e os valores discrepantes da variável.\n",
        "\n",
        "**3. Multivariada sem gráficos**\n",
        "\n",
        "A análise multivariada lida com conjuntos de dados que envolvem mais de uma variável. Na análise multivariada sem gráficos, exploramos a relação entre duas ou mais variáveis por meio de tabulação cruzada ou estatística."
      ],
      "metadata": {
        "id": "J6D1iRmtqReS"
      }
    },
    {
      "cell_type": "code",
      "source": [
        "import pandas as pd\n",
        "from google.colab import files\n",
        "\n",
        "# Carregar o arquivo CSV para o ambiente do Colab\n",
        "uploaded = files.upload()\n",
        "\n",
        "# Obter o nome do arquivo carregado\n",
        "nome_arquivo = list(uploaded.keys())[0]\n",
        "\n",
        "# Verificar se o usuário selecionou um arquivo\n",
        "if nome_arquivo:\n",
        "    # Carregar os dados\n",
        "    dados = pd.read_csv(nome_arquivo)\n",
        "\n",
        "    # Exibir as colunas presentes no arquivo\n",
        "    print(\"Colunas disponíveis:\")\n",
        "    print(dados.columns)\n",
        "\n",
        "    # Solicitar ao usuário para escolher as colunas\n",
        "    coluna_variavel1 = input(\"Digite o nome da coluna 'variavel1': \")\n",
        "    coluna_variavel2 = input(\"Digite o nome da coluna 'variavel2': \")\n",
        "\n",
        "    # Análise multivariada sem gráficos - Tabela de frequência cruzada\n",
        "    relacao_variaveis = pd.crosstab(index=dados[coluna_variavel1], columns=dados[coluna_variavel2])\n",
        "    # ou\n",
        "    # relacao_variaveis = dados[[coluna_variavel1, coluna_variavel2]].groupby([coluna_variavel1, coluna_variavel2]).size().unstack()\n",
        "\n",
        "    # Exibir a tabela de frequência cruzada\n",
        "    print(relacao_variaveis)\n",
        "\n",
        "    # Salvar a tabela de frequência cruzada em um arquivo CSV\n",
        "    relacao_variaveis.to_csv('tabela_frequencia_cruzada.csv')\n",
        "else:\n",
        "    print(\"Nenhum arquivo selecionado.\")\n"
      ],
      "metadata": {
        "id": "1gBtL3YAqbmD"
      },
      "execution_count": null,
      "outputs": []
    },
    {
      "cell_type": "markdown",
      "source": [
        "Neste exemplo, usamos a função crosstab do pandas para criar uma tabela cruzada que mostra a relação entre duas variáveis. Também é possível usar o método groupby para agrupar as variáveis e calcular estatísticas resumidas.\n",
        "\n",
        "\n",
        "**4. Multivariada com gráficos**\n",
        "\n",
        "A análise multivariada com gráficos nos permite visualizar as relações entre dois ou mais conjuntos de dados. Um gráfico comumente utilizado é o gráfico de colunas agrupadas, onde cada grupo representa um nível de uma variável e cada coluna dentro de um grupo representa os níveis de outra variável."
      ],
      "metadata": {
        "id": "pXnEWWv9qynz"
      }
    },
    {
      "cell_type": "code",
      "source": [
        "import pandas as pd\n",
        "import matplotlib.pyplot as plt\n",
        "from google.colab import files\n",
        "\n",
        "# Carregar o arquivo CSV para o ambiente do Colab\n",
        "uploaded = files.upload()\n",
        "\n",
        "# Obter o nome do arquivo carregado\n",
        "nome_arquivo = list(uploaded.keys())[0]\n",
        "\n",
        "# Verificar se o usuário selecionou um arquivo\n",
        "if nome_arquivo:\n",
        "    # Carregar os dados\n",
        "    dados = pd.read_csv(nome_arquivo)\n",
        "\n",
        "    # Exibir as colunas presentes no arquivo\n",
        "    print(\"Colunas disponíveis:\")\n",
        "    print(dados.columns)\n",
        "\n",
        "    # Solicitar ao usuário para escolher as colunas\n",
        "    coluna_variavel1 = input(\"Digite o nome da coluna 'variavel1': \")\n",
        "    coluna_variavel2 = input(\"Digite o nome da coluna 'variavel2': \")\n",
        "\n",
        "    # Gráfico de colunas agrupadas\n",
        "    dados_agrupados = dados.groupby([coluna_variavel1, coluna_variavel2]).size().unstack()\n",
        "    dados_agrupados.plot(kind='bar', stacked=True)\n",
        "\n",
        "    plt.xlabel('Variável 1')\n",
        "    plt.ylabel('Contagem')\n",
        "    plt.title('Gráfico de Colunas Agrupadas')\n",
        "\n",
        "    plt.show()\n",
        "else:\n",
        "    print(\"Nenhum arquivo selecionado.\")\n"
      ],
      "metadata": {
        "id": "2Uzomamcq52L"
      },
      "execution_count": null,
      "outputs": []
    },
    {
      "cell_type": "markdown",
      "source": [
        "Neste exemplo, usamos o método groupby para agrupar as variáveis e criar um gráfico de colunas agrupadas. Isso nos permite visualizar a relação entre as variáveis e comparar os níveis de uma variável com os níveis de outra.\n",
        "\n",
        "**Importância:**\n",
        "\n",
        "1. Diversidade de técnicas: Diferentes tipos de análise exploratória usam abordagens variadas, como estatísticas descritivas, gráficos, visualizações, análise de clusters, análise de componentes principais, entre outras. Cada técnica fornece uma perspectiva única dos dados, permitindo uma compreensão mais completa do conjunto de dados.\n",
        "\n",
        "2. Exploração abrangente: A variedade de técnicas de análise exploratória permite explorar os dados de várias maneiras, revelando padrões ocultos ou tendências que podem não ser evidentes em uma única abordagem.\n",
        "\n",
        "3. Detecção de anomalias: Algumas técnicas de análise exploratória, como a análise de outliers, ajudam a identificar pontos de dados incomuns ou anomalias que podem ser importantes para entender o comportamento geral dos dados.\n",
        "\n",
        "Em resumo, ter diferentes tipos de análise exploratória de dados é fundamental para obter uma compreensão completa dos dados, detectar padrões importantes e insights valiosos, além de validar suposições iniciais. Essa diversidade de técnicas ajuda a tornar a análise de dados mais abrangente e eficiente, permitindo que os analistas tomem decisões informadas e precisas com base nos dados disponíveis.\n",
        "\n",
        "\n",
        "#**Bibliografia**\n",
        "\n",
        "**Livros:**\n",
        "\n",
        "*   \"An Introduction to Statistical Learning\" de Gareth James, Daniela Witten, Trevor Hastie, e Robert Tibshirani\".\n",
        "\n",
        "*   \"Python for Data Analysis\" de Wes McKinney\".\n",
        "\n",
        "**Sites**\n",
        "\n",
        "*   https://www.ibm.com/br-pt/topics/exploratory-data-analysis"
      ],
      "metadata": {
        "id": "i_NBi_H5q-d0"
      }
    }
  ]
}